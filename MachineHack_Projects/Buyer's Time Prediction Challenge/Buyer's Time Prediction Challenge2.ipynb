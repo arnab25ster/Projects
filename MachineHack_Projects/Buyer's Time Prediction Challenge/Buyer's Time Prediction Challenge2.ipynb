{
 "cells": [
  {
   "cell_type": "markdown",
   "metadata": {},
   "source": [
    "## Problem Defination\n",
    "\n",
    "Buyers spend a significant amount of time surfing an e-commerce store, since the pandemic the e-commerce has seen a boom in the number of users across the domains. In the meantime, the store owners are also planning to attract customers using various algorithms to leverage customer behavior patterns.\n",
    "\n",
    "In this competition provided the visitor's session data, we are challenging the Machinehack community to come up with a regression algorithm to predict the time a buyer will spend on the platform.\n",
    "\n",
    "## Data Dictionary\n",
    "    session_id - Unique identifier for every row\n",
    "    session_number - Session type identifier\n",
    "    client_agent - Client-side software details\n",
    "    device_details -  Client-side device details\n",
    "    date - Datestamp of the session\n",
    "    purchased - Binary value for any purchase done\n",
    "    added_in_cart - Binary value for cart activity\n",
    "    checked_out -  Binary value for checking out successfully\n",
    "    time_spent - Total time spent in seconds (Target Column)\n",
    "\n",
    "## Evaluation Metrics\n",
    "The submission will be evaluated using the RMSLE metric. One can use `np.sqrt(mean_squared_log_error(actual, predicted))` to calculate the same\n",
    "\n",
    "## Steps Followed:-\n",
    "   1. As its is a Time Series problem, so importing the data into `parse_dates` format so that the date column is imported as Pandas DateTime Object, instead of regular object. \n",
    "   2. Plotting histogram of the `time_spent` column to understand the target data curve.\n",
    "   3. Plotting the `time spent` v/s the `date` column to understand the on which months the time_spent was more.\n",
    "   4. Creating Year, month, date column seperately from date column. And finally deleteing the dae column as we have extracted all the required information from the date column in the form of Year, Months and Date. using `convert_Date_Obj(df)` function....\n",
    "   5. Checking for the String values in the Data Frame and creating a Pandas categorical instead.. using `convert_string_to_categorical(df)`\n",
    "   6. There is no Numerical field with missing values.\n",
    "   7. Find the Categorical fileds having missing values ==> Fill them and convert them to numbers.... using `convert_string_to_categorical(df)`\n",
    "   8. Spliting the Data into Training and Validation dataset using `train_test_split`\n",
    "   9. Creating the custom Scoreing function... In this case RMSLE and calling it using `show_scores(model)`\n",
    "   10. Selecting an Algorithm and training it by the `fit()` function.\n",
    "   11. Predicting on the Valiadtion data using `model.predict()` function, and scoring it.\n",
    "   12. Comapring the scores of various models\n",
    "       a. **random_forest_score**\n",
    "       b. **svr_rbf_score**\n",
    "   \n",
    "   \n",
    "### KNOWLEDGE Learnt:\n",
    "* **Hyperparameters for Random Forest Regressor:**\n",
    "\n",
    "    1. n_estimators = number of trees in the foreset\n",
    "    2. max_features = max number of features considered for splitting a node\n",
    "    3. max_depth = max number of levels in each decision tree\n",
    "    4. min_samples_split = min number of data points placed in a node before the node is split\n",
    "    5. min_samples_leaf = min number of data points allowed in a leaf node\n",
    "    6. bootstrap = method for sampling data points (with or without replacement)\n",
    "    \n",
    "    "
   ]
  },
  {
   "cell_type": "code",
   "execution_count": 1,
   "metadata": {},
   "outputs": [],
   "source": [
    "import pandas as pd\n",
    "import numpy as np\n",
    "import matplotlib.pyplot as plt\n",
    "import seaborn as sns\n",
    "%matplotlib inline\n",
    "\n",
    "from sklearn.model_selection import RandomizedSearchCV, GridSearchCV"
   ]
  },
  {
   "cell_type": "code",
   "execution_count": 2,
   "metadata": {},
   "outputs": [
    {
     "data": {
      "text/html": [
       "<div>\n",
       "<style scoped>\n",
       "    .dataframe tbody tr th:only-of-type {\n",
       "        vertical-align: middle;\n",
       "    }\n",
       "\n",
       "    .dataframe tbody tr th {\n",
       "        vertical-align: top;\n",
       "    }\n",
       "\n",
       "    .dataframe thead th {\n",
       "        text-align: right;\n",
       "    }\n",
       "</style>\n",
       "<table border=\"1\" class=\"dataframe\">\n",
       "  <thead>\n",
       "    <tr style=\"text-align: right;\">\n",
       "      <th></th>\n",
       "      <th>session_id</th>\n",
       "      <th>session_number</th>\n",
       "      <th>client_agent</th>\n",
       "      <th>device_details</th>\n",
       "      <th>date</th>\n",
       "      <th>purchased</th>\n",
       "      <th>added_in_cart</th>\n",
       "      <th>checked_out</th>\n",
       "      <th>time_spent</th>\n",
       "    </tr>\n",
       "  </thead>\n",
       "  <tbody>\n",
       "    <tr>\n",
       "      <th>0</th>\n",
       "      <td>57f879e70d3c5fc2a98102d64c9fd84e</td>\n",
       "      <td>715</td>\n",
       "      <td>Mozilla/5.0 (Windows NT 6.1; WOW64) AppleWebKi...</td>\n",
       "      <td>Desktop - Chrome</td>\n",
       "      <td>2020-01-22</td>\n",
       "      <td>1</td>\n",
       "      <td>0</td>\n",
       "      <td>0</td>\n",
       "      <td>236.886</td>\n",
       "    </tr>\n",
       "    <tr>\n",
       "      <th>1</th>\n",
       "      <td>a5442b0c7c33d0a811e7661e556b2de8</td>\n",
       "      <td>55</td>\n",
       "      <td>Product/8.0 iPhone/8.1.3</td>\n",
       "      <td>iPhone - iOS</td>\n",
       "      <td>2020-02-27</td>\n",
       "      <td>1</td>\n",
       "      <td>0</td>\n",
       "      <td>0</td>\n",
       "      <td>1277.455</td>\n",
       "    </tr>\n",
       "    <tr>\n",
       "      <th>2</th>\n",
       "      <td>305cb1486ed8610c00b37007926cb2c4</td>\n",
       "      <td>11</td>\n",
       "      <td>Mozilla/5.0 (iPhone; CPU iPhone OS 7_1_2 like ...</td>\n",
       "      <td>iPhone - MobileWeb</td>\n",
       "      <td>2019-08-01</td>\n",
       "      <td>0</td>\n",
       "      <td>0</td>\n",
       "      <td>0</td>\n",
       "      <td>21.704</td>\n",
       "    </tr>\n",
       "    <tr>\n",
       "      <th>3</th>\n",
       "      <td>f2c1ecc9993f0071df91ba178450498c</td>\n",
       "      <td>2794</td>\n",
       "      <td>Mozilla/5.0 (compatible; MSIE 9.0; Windows NT ...</td>\n",
       "      <td>Desktop - IE</td>\n",
       "      <td>2019-12-30</td>\n",
       "      <td>0</td>\n",
       "      <td>1</td>\n",
       "      <td>0</td>\n",
       "      <td>455.201</td>\n",
       "    </tr>\n",
       "    <tr>\n",
       "      <th>4</th>\n",
       "      <td>e460830ae295e55d2216ebdc761ab9a6</td>\n",
       "      <td>3674</td>\n",
       "      <td>Mozilla/5.0 (iPhone; CPU iPhone OS 7_1_1 like ...</td>\n",
       "      <td>iPhone - Web</td>\n",
       "      <td>2019-09-10</td>\n",
       "      <td>0</td>\n",
       "      <td>0</td>\n",
       "      <td>0</td>\n",
       "      <td>1164.877</td>\n",
       "    </tr>\n",
       "  </tbody>\n",
       "</table>\n",
       "</div>"
      ],
      "text/plain": [
       "                         session_id  session_number  \\\n",
       "0  57f879e70d3c5fc2a98102d64c9fd84e             715   \n",
       "1  a5442b0c7c33d0a811e7661e556b2de8              55   \n",
       "2  305cb1486ed8610c00b37007926cb2c4              11   \n",
       "3  f2c1ecc9993f0071df91ba178450498c            2794   \n",
       "4  e460830ae295e55d2216ebdc761ab9a6            3674   \n",
       "\n",
       "                                        client_agent      device_details  \\\n",
       "0  Mozilla/5.0 (Windows NT 6.1; WOW64) AppleWebKi...    Desktop - Chrome   \n",
       "1                           Product/8.0 iPhone/8.1.3        iPhone - iOS   \n",
       "2  Mozilla/5.0 (iPhone; CPU iPhone OS 7_1_2 like ...  iPhone - MobileWeb   \n",
       "3  Mozilla/5.0 (compatible; MSIE 9.0; Windows NT ...        Desktop - IE   \n",
       "4  Mozilla/5.0 (iPhone; CPU iPhone OS 7_1_1 like ...        iPhone - Web   \n",
       "\n",
       "        date  purchased  added_in_cart  checked_out  time_spent  \n",
       "0 2020-01-22          1              0            0     236.886  \n",
       "1 2020-02-27          1              0            0    1277.455  \n",
       "2 2019-08-01          0              0            0      21.704  \n",
       "3 2019-12-30          0              1            0     455.201  \n",
       "4 2019-09-10          0              0            0    1164.877  "
      ]
     },
     "execution_count": 2,
     "metadata": {},
     "output_type": "execute_result"
    }
   ],
   "source": [
    "#converted the date to datetime instead of only being object\n",
    "df = pd.read_csv(\"Data\\Train.csv\",\n",
    "                parse_dates=[\"date\"])\n",
    "df.head()"
   ]
  },
  {
   "cell_type": "code",
   "execution_count": 3,
   "metadata": {},
   "outputs": [
    {
     "name": "stdout",
     "output_type": "stream",
     "text": [
      "False\n"
     ]
    }
   ],
   "source": [
    "dups=df.duplicated()\n",
    "print(dups.any())"
   ]
  },
  {
   "cell_type": "code",
   "execution_count": 4,
   "metadata": {},
   "outputs": [
    {
     "data": {
      "text/plain": [
       "5429"
      ]
     },
     "execution_count": 4,
     "metadata": {},
     "output_type": "execute_result"
    }
   ],
   "source": [
    "len(df)"
   ]
  },
  {
   "cell_type": "code",
   "execution_count": 5,
   "metadata": {},
   "outputs": [
    {
     "name": "stdout",
     "output_type": "stream",
     "text": [
      "<class 'pandas.core.frame.DataFrame'>\n",
      "RangeIndex: 5429 entries, 0 to 5428\n",
      "Data columns (total 9 columns):\n",
      " #   Column          Non-Null Count  Dtype         \n",
      "---  ------          --------------  -----         \n",
      " 0   session_id      5429 non-null   object        \n",
      " 1   session_number  5429 non-null   int64         \n",
      " 2   client_agent    5269 non-null   object        \n",
      " 3   device_details  5429 non-null   object        \n",
      " 4   date            5429 non-null   datetime64[ns]\n",
      " 5   purchased       5429 non-null   int64         \n",
      " 6   added_in_cart   5429 non-null   int64         \n",
      " 7   checked_out     5429 non-null   int64         \n",
      " 8   time_spent      5429 non-null   float64       \n",
      "dtypes: datetime64[ns](1), float64(1), int64(4), object(3)\n",
      "memory usage: 381.9+ KB\n"
     ]
    }
   ],
   "source": [
    "df.info()"
   ]
  },
  {
   "cell_type": "code",
   "execution_count": 6,
   "metadata": {},
   "outputs": [
    {
     "data": {
      "text/plain": [
       "<AxesSubplot:>"
      ]
     },
     "execution_count": 6,
     "metadata": {},
     "output_type": "execute_result"
    },
    {
     "data": {
      "image/png": "[encoded data removed]",
      "text/plain": [
       "<Figure size 432x288 with 1 Axes>"
      ]
     },
     "metadata": {
      "needs_background": "light"
     },
     "output_type": "display_data"
    }
   ],
   "source": [
    "df[\"time_spent\"].hist()"
   ]
  },
  {
   "cell_type": "code",
   "execution_count": 7,
   "metadata": {},
   "outputs": [
    {
     "data": {
      "text/plain": [
       "<AxesSubplot:>"
      ]
     },
     "execution_count": 7,
     "metadata": {},
     "output_type": "execute_result"
    },
    {
     "data": {
      "image/png": "[encoded data removed]",
      "text/plain": [
       "<Figure size 432x288 with 1 Axes>"
      ]
     },
     "metadata": {
      "needs_background": "light"
     },
     "output_type": "display_data"
    }
   ],
   "source": [
    "df[\"log_time_spent\"] = np.log(df[\"time_spent\"])\n",
    "df[\"log_time_spent\"].hist()"
   ]
  },
  {
   "cell_type": "code",
   "execution_count": 8,
   "metadata": {},
   "outputs": [
    {
     "data": {
      "text/plain": [
       "<matplotlib.collections.PathCollection at 0x1a44171b190>"
      ]
     },
     "execution_count": 8,
     "metadata": {},
     "output_type": "execute_result"
    },
    {
     "data": {
      "image/png": "[encoded data removed]",
      "text/plain": [
       "<Figure size 720x432 with 1 Axes>"
      ]
     },
     "metadata": {
      "needs_background": "light"
     },
     "output_type": "display_data"
    }
   ],
   "source": [
    "fig, ax = plt.subplots(figsize=(10,6))\n",
    "ax.scatter(df[\"date\"], df[\"time_spent\"])"
   ]
  },
  {
   "cell_type": "code",
   "execution_count": 9,
   "metadata": {},
   "outputs": [
    {
     "data": {
      "text/plain": [
       "<matplotlib.collections.PathCollection at 0x1a446ec9f10>"
      ]
     },
     "execution_count": 9,
     "metadata": {},
     "output_type": "execute_result"
    },
    {
     "data": {
      "image/png": "[encoded data removed]",
      "text/plain": [
       "<Figure size 720x432 with 1 Axes>"
      ]
     },
     "metadata": {
      "needs_background": "light"
     },
     "output_type": "display_data"
    }
   ],
   "source": [
    "fig, ax = plt.subplots(figsize=(10,6))\n",
    "ax.scatter(df[\"date\"], df[\"log_time_spent\"])"
   ]
  },
  {
   "cell_type": "code",
   "execution_count": 10,
   "metadata": {},
   "outputs": [
    {
     "data": {
      "text/plain": [
       "(3.506067777230751, 33.3170074220039, 5.058186595231395, 33.31699999999999)"
      ]
     },
     "execution_count": 10,
     "metadata": {},
     "output_type": "execute_result"
    }
   ],
   "source": [
    "np.log(33.317), np.exp(3.506068), np.log2(33.317), np.exp2(5.058186595231395)"
   ]
  },
  {
   "cell_type": "code",
   "execution_count": 11,
   "metadata": {},
   "outputs": [
    {
     "data": {
      "text/plain": [
       "(Timestamp('2019-05-06 00:00:00'), Timestamp('2020-04-23 00:00:00'))"
      ]
     },
     "execution_count": 11,
     "metadata": {},
     "output_type": "execute_result"
    }
   ],
   "source": [
    "df[\"date\"].min(), df.date.max()"
   ]
  },
  {
   "cell_type": "code",
   "execution_count": 12,
   "metadata": {},
   "outputs": [
    {
     "data": {
      "text/plain": [
       "<AxesSubplot:>"
      ]
     },
     "execution_count": 12,
     "metadata": {},
     "output_type": "execute_result"
    },
    {
     "data": {
      "image/png": "[encoded data removed]",
      "text/plain": [
       "<Figure size 432x288 with 1 Axes>"
      ]
     },
     "metadata": {
      "needs_background": "light"
     },
     "output_type": "display_data"
    }
   ],
   "source": [
    "df.date.hist()"
   ]
  },
  {
   "cell_type": "markdown",
   "metadata": {},
   "source": [
    "sorting the dataframe on the date:-\n"
   ]
  },
  {
   "cell_type": "code",
   "execution_count": 13,
   "metadata": {},
   "outputs": [],
   "source": [
    "# We will not sort it by date as even the test data also have all mix lot of dates\n",
    "#df.sort_values(by=[\"date\"], inplace=True, ascending=True)\n",
    "#df.head()"
   ]
  },
  {
   "cell_type": "code",
   "execution_count": 14,
   "metadata": {},
   "outputs": [],
   "source": [
    "def convert_Date_Obj(df):\n",
    "    \"\"\"\n",
    "    Accecps a Data Frame and a date object and extracts its corresponding Year Month and Date\n",
    "    \"\"\"\n",
    "    \n",
    "    df[\"Year\"] = df.date.dt.year\n",
    "    df[\"Month\"] = df.date.dt.month\n",
    "    df[\"Date\"] = df.date.dt.day\n",
    "    df[\"Day_of_Year\"] = df.date.dt.dayofyear\n",
    "    df[\"Week_Of_Year\"] = df.date.dt.weekofyear\n",
    "    df[\"Quarter\"] = df.date.dt.quarter\n",
    "    df[\"Day_Of_Week\"] = df.date.dt.dayofweek\n",
    "    df.drop(\"date\", axis=1, inplace=True)\n",
    "    \n",
    "    return df"
   ]
  },
  {
   "cell_type": "code",
   "execution_count": 15,
   "metadata": {},
   "outputs": [
    {
     "name": "stderr",
     "output_type": "stream",
     "text": [
      "<ipython-input-14-d1471cc7cbcb>:10: FutureWarning: Series.dt.weekofyear and Series.dt.week have been deprecated.  Please use Series.dt.isocalendar().week instead.\n",
      "  df[\"Week_Of_Year\"] = df.date.dt.weekofyear\n"
     ]
    },
    {
     "data": {
      "text/html": [
       "<div>\n",
       "<style scoped>\n",
       "    .dataframe tbody tr th:only-of-type {\n",
       "        vertical-align: middle;\n",
       "    }\n",
       "\n",
       "    .dataframe tbody tr th {\n",
       "        vertical-align: top;\n",
       "    }\n",
       "\n",
       "    .dataframe thead th {\n",
       "        text-align: right;\n",
       "    }\n",
       "</style>\n",
       "<table border=\"1\" class=\"dataframe\">\n",
       "  <thead>\n",
       "    <tr style=\"text-align: right;\">\n",
       "      <th></th>\n",
       "      <th>session_id</th>\n",
       "      <th>session_number</th>\n",
       "      <th>client_agent</th>\n",
       "      <th>device_details</th>\n",
       "      <th>purchased</th>\n",
       "      <th>added_in_cart</th>\n",
       "      <th>checked_out</th>\n",
       "      <th>time_spent</th>\n",
       "      <th>log_time_spent</th>\n",
       "      <th>Year</th>\n",
       "      <th>Month</th>\n",
       "      <th>Date</th>\n",
       "      <th>Day_of_Year</th>\n",
       "      <th>Week_Of_Year</th>\n",
       "      <th>Quarter</th>\n",
       "      <th>Day_Of_Week</th>\n",
       "    </tr>\n",
       "  </thead>\n",
       "  <tbody>\n",
       "    <tr>\n",
       "      <th>0</th>\n",
       "      <td>57f879e70d3c5fc2a98102d64c9fd84e</td>\n",
       "      <td>715</td>\n",
       "      <td>Mozilla/5.0 (Windows NT 6.1; WOW64) AppleWebKi...</td>\n",
       "      <td>Desktop - Chrome</td>\n",
       "      <td>1</td>\n",
       "      <td>0</td>\n",
       "      <td>0</td>\n",
       "      <td>236.886</td>\n",
       "      <td>5.467579</td>\n",
       "      <td>2020</td>\n",
       "      <td>1</td>\n",
       "      <td>22</td>\n",
       "      <td>22</td>\n",
       "      <td>4</td>\n",
       "      <td>1</td>\n",
       "      <td>2</td>\n",
       "    </tr>\n",
       "    <tr>\n",
       "      <th>1</th>\n",
       "      <td>a5442b0c7c33d0a811e7661e556b2de8</td>\n",
       "      <td>55</td>\n",
       "      <td>Product/8.0 iPhone/8.1.3</td>\n",
       "      <td>iPhone - iOS</td>\n",
       "      <td>1</td>\n",
       "      <td>0</td>\n",
       "      <td>0</td>\n",
       "      <td>1277.455</td>\n",
       "      <td>7.152625</td>\n",
       "      <td>2020</td>\n",
       "      <td>2</td>\n",
       "      <td>27</td>\n",
       "      <td>58</td>\n",
       "      <td>9</td>\n",
       "      <td>1</td>\n",
       "      <td>3</td>\n",
       "    </tr>\n",
       "    <tr>\n",
       "      <th>2</th>\n",
       "      <td>305cb1486ed8610c00b37007926cb2c4</td>\n",
       "      <td>11</td>\n",
       "      <td>Mozilla/5.0 (iPhone; CPU iPhone OS 7_1_2 like ...</td>\n",
       "      <td>iPhone - MobileWeb</td>\n",
       "      <td>0</td>\n",
       "      <td>0</td>\n",
       "      <td>0</td>\n",
       "      <td>21.704</td>\n",
       "      <td>3.077497</td>\n",
       "      <td>2019</td>\n",
       "      <td>8</td>\n",
       "      <td>1</td>\n",
       "      <td>213</td>\n",
       "      <td>31</td>\n",
       "      <td>3</td>\n",
       "      <td>3</td>\n",
       "    </tr>\n",
       "    <tr>\n",
       "      <th>3</th>\n",
       "      <td>f2c1ecc9993f0071df91ba178450498c</td>\n",
       "      <td>2794</td>\n",
       "      <td>Mozilla/5.0 (compatible; MSIE 9.0; Windows NT ...</td>\n",
       "      <td>Desktop - IE</td>\n",
       "      <td>0</td>\n",
       "      <td>1</td>\n",
       "      <td>0</td>\n",
       "      <td>455.201</td>\n",
       "      <td>6.120739</td>\n",
       "      <td>2019</td>\n",
       "      <td>12</td>\n",
       "      <td>30</td>\n",
       "      <td>364</td>\n",
       "      <td>1</td>\n",
       "      <td>4</td>\n",
       "      <td>0</td>\n",
       "    </tr>\n",
       "    <tr>\n",
       "      <th>4</th>\n",
       "      <td>e460830ae295e55d2216ebdc761ab9a6</td>\n",
       "      <td>3674</td>\n",
       "      <td>Mozilla/5.0 (iPhone; CPU iPhone OS 7_1_1 like ...</td>\n",
       "      <td>iPhone - Web</td>\n",
       "      <td>0</td>\n",
       "      <td>0</td>\n",
       "      <td>0</td>\n",
       "      <td>1164.877</td>\n",
       "      <td>7.060371</td>\n",
       "      <td>2019</td>\n",
       "      <td>9</td>\n",
       "      <td>10</td>\n",
       "      <td>253</td>\n",
       "      <td>37</td>\n",
       "      <td>3</td>\n",
       "      <td>1</td>\n",
       "    </tr>\n",
       "  </tbody>\n",
       "</table>\n",
       "</div>"
      ],
      "text/plain": [
       "                         session_id  session_number  \\\n",
       "0  57f879e70d3c5fc2a98102d64c9fd84e             715   \n",
       "1  a5442b0c7c33d0a811e7661e556b2de8              55   \n",
       "2  305cb1486ed8610c00b37007926cb2c4              11   \n",
       "3  f2c1ecc9993f0071df91ba178450498c            2794   \n",
       "4  e460830ae295e55d2216ebdc761ab9a6            3674   \n",
       "\n",
       "                                        client_agent      device_details  \\\n",
       "0  Mozilla/5.0 (Windows NT 6.1; WOW64) AppleWebKi...    Desktop - Chrome   \n",
       "1                           Product/8.0 iPhone/8.1.3        iPhone - iOS   \n",
       "2  Mozilla/5.0 (iPhone; CPU iPhone OS 7_1_2 like ...  iPhone - MobileWeb   \n",
       "3  Mozilla/5.0 (compatible; MSIE 9.0; Windows NT ...        Desktop - IE   \n",
       "4  Mozilla/5.0 (iPhone; CPU iPhone OS 7_1_1 like ...        iPhone - Web   \n",
       "\n",
       "   purchased  added_in_cart  checked_out  time_spent  log_time_spent  Year  \\\n",
       "0          1              0            0     236.886        5.467579  2020   \n",
       "1          1              0            0    1277.455        7.152625  2020   \n",
       "2          0              0            0      21.704        3.077497  2019   \n",
       "3          0              1            0     455.201        6.120739  2019   \n",
       "4          0              0            0    1164.877        7.060371  2019   \n",
       "\n",
       "   Month  Date  Day_of_Year  Week_Of_Year  Quarter  Day_Of_Week  \n",
       "0      1    22           22             4        1            2  \n",
       "1      2    27           58             9        1            3  \n",
       "2      8     1          213            31        3            3  \n",
       "3     12    30          364             1        4            0  \n",
       "4      9    10          253            37        3            1  "
      ]
     },
     "execution_count": 15,
     "metadata": {},
     "output_type": "execute_result"
    }
   ],
   "source": [
    "df_new = convert_Date_Obj(df)\n",
    "df_new.head()\n"
   ]
  },
  {
   "cell_type": "markdown",
   "metadata": {},
   "source": [
    "**Dropping the session_id column as its just a Unique identifier to the dataset and dont have any meaning or value associated with ir with respect to the predictions**"
   ]
  },
  {
   "cell_type": "code",
   "execution_count": 16,
   "metadata": {},
   "outputs": [
    {
     "data": {
      "text/html": [
       "<div>\n",
       "<style scoped>\n",
       "    .dataframe tbody tr th:only-of-type {\n",
       "        vertical-align: middle;\n",
       "    }\n",
       "\n",
       "    .dataframe tbody tr th {\n",
       "        vertical-align: top;\n",
       "    }\n",
       "\n",
       "    .dataframe thead th {\n",
       "        text-align: right;\n",
       "    }\n",
       "</style>\n",
       "<table border=\"1\" class=\"dataframe\">\n",
       "  <thead>\n",
       "    <tr style=\"text-align: right;\">\n",
       "      <th></th>\n",
       "      <th>session_number</th>\n",
       "      <th>client_agent</th>\n",
       "      <th>device_details</th>\n",
       "      <th>purchased</th>\n",
       "      <th>added_in_cart</th>\n",
       "      <th>checked_out</th>\n",
       "      <th>time_spent</th>\n",
       "      <th>log_time_spent</th>\n",
       "      <th>Year</th>\n",
       "      <th>Month</th>\n",
       "      <th>Date</th>\n",
       "      <th>Day_of_Year</th>\n",
       "      <th>Week_Of_Year</th>\n",
       "      <th>Quarter</th>\n",
       "      <th>Day_Of_Week</th>\n",
       "    </tr>\n",
       "  </thead>\n",
       "  <tbody>\n",
       "    <tr>\n",
       "      <th>0</th>\n",
       "      <td>715</td>\n",
       "      <td>Mozilla/5.0 (Windows NT 6.1; WOW64) AppleWebKi...</td>\n",
       "      <td>Desktop - Chrome</td>\n",
       "      <td>1</td>\n",
       "      <td>0</td>\n",
       "      <td>0</td>\n",
       "      <td>236.886</td>\n",
       "      <td>5.467579</td>\n",
       "      <td>2020</td>\n",
       "      <td>1</td>\n",
       "      <td>22</td>\n",
       "      <td>22</td>\n",
       "      <td>4</td>\n",
       "      <td>1</td>\n",
       "      <td>2</td>\n",
       "    </tr>\n",
       "    <tr>\n",
       "      <th>1</th>\n",
       "      <td>55</td>\n",
       "      <td>Product/8.0 iPhone/8.1.3</td>\n",
       "      <td>iPhone - iOS</td>\n",
       "      <td>1</td>\n",
       "      <td>0</td>\n",
       "      <td>0</td>\n",
       "      <td>1277.455</td>\n",
       "      <td>7.152625</td>\n",
       "      <td>2020</td>\n",
       "      <td>2</td>\n",
       "      <td>27</td>\n",
       "      <td>58</td>\n",
       "      <td>9</td>\n",
       "      <td>1</td>\n",
       "      <td>3</td>\n",
       "    </tr>\n",
       "    <tr>\n",
       "      <th>2</th>\n",
       "      <td>11</td>\n",
       "      <td>Mozilla/5.0 (iPhone; CPU iPhone OS 7_1_2 like ...</td>\n",
       "      <td>iPhone - MobileWeb</td>\n",
       "      <td>0</td>\n",
       "      <td>0</td>\n",
       "      <td>0</td>\n",
       "      <td>21.704</td>\n",
       "      <td>3.077497</td>\n",
       "      <td>2019</td>\n",
       "      <td>8</td>\n",
       "      <td>1</td>\n",
       "      <td>213</td>\n",
       "      <td>31</td>\n",
       "      <td>3</td>\n",
       "      <td>3</td>\n",
       "    </tr>\n",
       "    <tr>\n",
       "      <th>3</th>\n",
       "      <td>2794</td>\n",
       "      <td>Mozilla/5.0 (compatible; MSIE 9.0; Windows NT ...</td>\n",
       "      <td>Desktop - IE</td>\n",
       "      <td>0</td>\n",
       "      <td>1</td>\n",
       "      <td>0</td>\n",
       "      <td>455.201</td>\n",
       "      <td>6.120739</td>\n",
       "      <td>2019</td>\n",
       "      <td>12</td>\n",
       "      <td>30</td>\n",
       "      <td>364</td>\n",
       "      <td>1</td>\n",
       "      <td>4</td>\n",
       "      <td>0</td>\n",
       "    </tr>\n",
       "    <tr>\n",
       "      <th>4</th>\n",
       "      <td>3674</td>\n",
       "      <td>Mozilla/5.0 (iPhone; CPU iPhone OS 7_1_1 like ...</td>\n",
       "      <td>iPhone - Web</td>\n",
       "      <td>0</td>\n",
       "      <td>0</td>\n",
       "      <td>0</td>\n",
       "      <td>1164.877</td>\n",
       "      <td>7.060371</td>\n",
       "      <td>2019</td>\n",
       "      <td>9</td>\n",
       "      <td>10</td>\n",
       "      <td>253</td>\n",
       "      <td>37</td>\n",
       "      <td>3</td>\n",
       "      <td>1</td>\n",
       "    </tr>\n",
       "  </tbody>\n",
       "</table>\n",
       "</div>"
      ],
      "text/plain": [
       "   session_number                                       client_agent  \\\n",
       "0             715  Mozilla/5.0 (Windows NT 6.1; WOW64) AppleWebKi...   \n",
       "1              55                           Product/8.0 iPhone/8.1.3   \n",
       "2              11  Mozilla/5.0 (iPhone; CPU iPhone OS 7_1_2 like ...   \n",
       "3            2794  Mozilla/5.0 (compatible; MSIE 9.0; Windows NT ...   \n",
       "4            3674  Mozilla/5.0 (iPhone; CPU iPhone OS 7_1_1 like ...   \n",
       "\n",
       "       device_details  purchased  added_in_cart  checked_out  time_spent  \\\n",
       "0    Desktop - Chrome          1              0            0     236.886   \n",
       "1        iPhone - iOS          1              0            0    1277.455   \n",
       "2  iPhone - MobileWeb          0              0            0      21.704   \n",
       "3        Desktop - IE          0              1            0     455.201   \n",
       "4        iPhone - Web          0              0            0    1164.877   \n",
       "\n",
       "   log_time_spent  Year  Month  Date  Day_of_Year  Week_Of_Year  Quarter  \\\n",
       "0        5.467579  2020      1    22           22             4        1   \n",
       "1        7.152625  2020      2    27           58             9        1   \n",
       "2        3.077497  2019      8     1          213            31        3   \n",
       "3        6.120739  2019     12    30          364             1        4   \n",
       "4        7.060371  2019      9    10          253            37        3   \n",
       "\n",
       "   Day_Of_Week  \n",
       "0            2  \n",
       "1            3  \n",
       "2            3  \n",
       "3            0  \n",
       "4            1  "
      ]
     },
     "execution_count": 16,
     "metadata": {},
     "output_type": "execute_result"
    }
   ],
   "source": [
    "df_new.drop(\"session_id\", axis=1, inplace=True)\n",
    "df_new.head()"
   ]
  },
  {
   "cell_type": "code",
   "execution_count": 17,
   "metadata": {},
   "outputs": [
    {
     "data": {
      "text/plain": [
       "session_number      0\n",
       "client_agent      160\n",
       "device_details      0\n",
       "purchased           0\n",
       "added_in_cart       0\n",
       "checked_out         0\n",
       "time_spent          0\n",
       "log_time_spent      0\n",
       "Year                0\n",
       "Month               0\n",
       "Date                0\n",
       "Day_of_Year         0\n",
       "Week_Of_Year        0\n",
       "Quarter             0\n",
       "Day_Of_Week         0\n",
       "dtype: int64"
      ]
     },
     "execution_count": 17,
     "metadata": {},
     "output_type": "execute_result"
    }
   ],
   "source": [
    "df_new.isna().sum()"
   ]
  },
  {
   "cell_type": "code",
   "execution_count": 18,
   "metadata": {},
   "outputs": [
    {
     "name": "stdout",
     "output_type": "stream",
     "text": [
      "<class 'pandas.core.frame.DataFrame'>\n",
      "RangeIndex: 5429 entries, 0 to 5428\n",
      "Data columns (total 15 columns):\n",
      " #   Column          Non-Null Count  Dtype  \n",
      "---  ------          --------------  -----  \n",
      " 0   session_number  5429 non-null   int64  \n",
      " 1   client_agent    5269 non-null   object \n",
      " 2   device_details  5429 non-null   object \n",
      " 3   purchased       5429 non-null   int64  \n",
      " 4   added_in_cart   5429 non-null   int64  \n",
      " 5   checked_out     5429 non-null   int64  \n",
      " 6   time_spent      5429 non-null   float64\n",
      " 7   log_time_spent  5429 non-null   float64\n",
      " 8   Year            5429 non-null   int64  \n",
      " 9   Month           5429 non-null   int64  \n",
      " 10  Date            5429 non-null   int64  \n",
      " 11  Day_of_Year     5429 non-null   int64  \n",
      " 12  Week_Of_Year    5429 non-null   int64  \n",
      " 13  Quarter         5429 non-null   int64  \n",
      " 14  Day_Of_Week     5429 non-null   int64  \n",
      "dtypes: float64(2), int64(11), object(2)\n",
      "memory usage: 636.3+ KB\n"
     ]
    }
   ],
   "source": [
    "df_new.info()"
   ]
  },
  {
   "cell_type": "code",
   "execution_count": 19,
   "metadata": {},
   "outputs": [],
   "source": [
    "def convert_string_to_categorical(df):\n",
    "    \"\"\"\n",
    "    Accepts a Data Frame and converts the String to Pandas category\n",
    "    \"\"\"\n",
    "    \n",
    "    for label, content in df.items():\n",
    "        if pd.api.types.is_string_dtype(content):\n",
    "            df[label] = content.astype(\"category\").cat.as_ordered()\n",
    "    return df"
   ]
  },
  {
   "cell_type": "code",
   "execution_count": 20,
   "metadata": {},
   "outputs": [
    {
     "name": "stdout",
     "output_type": "stream",
     "text": [
      "<class 'pandas.core.frame.DataFrame'>\n",
      "RangeIndex: 5429 entries, 0 to 5428\n",
      "Data columns (total 15 columns):\n",
      " #   Column          Non-Null Count  Dtype   \n",
      "---  ------          --------------  -----   \n",
      " 0   session_number  5429 non-null   int64   \n",
      " 1   client_agent    5269 non-null   category\n",
      " 2   device_details  5429 non-null   category\n",
      " 3   purchased       5429 non-null   int64   \n",
      " 4   added_in_cart   5429 non-null   int64   \n",
      " 5   checked_out     5429 non-null   int64   \n",
      " 6   time_spent      5429 non-null   float64 \n",
      " 7   log_time_spent  5429 non-null   float64 \n",
      " 8   Year            5429 non-null   int64   \n",
      " 9   Month           5429 non-null   int64   \n",
      " 10  Date            5429 non-null   int64   \n",
      " 11  Day_of_Year     5429 non-null   int64   \n",
      " 12  Week_Of_Year    5429 non-null   int64   \n",
      " 13  Quarter         5429 non-null   int64   \n",
      " 14  Day_Of_Week     5429 non-null   int64   \n",
      "dtypes: category(2), float64(2), int64(11)\n",
      "memory usage: 593.6 KB\n"
     ]
    }
   ],
   "source": [
    "# Converting String to categoricals\n",
    "df_cat = convert_string_to_categorical(df_new)\n",
    "df_cat.info()"
   ]
  },
  {
   "cell_type": "code",
   "execution_count": 21,
   "metadata": {},
   "outputs": [],
   "source": [
    "def fill_numbers(df):\n",
    "    \"\"\"\n",
    "    Receives a DataFrame and fills its missing String values with numbers\n",
    "    \"\"\"\n",
    "    \n",
    "    for label, content in df.items():\n",
    "        if not pd.api.types.is_numeric_dtype(content):\n",
    "            # Converting the Categorical values to numbers. \n",
    "            # Generally NULL will be filled as -1, we want to change it to 0(ZERO)\n",
    "            df[label] = pd.Categorical(content).codes+1\n",
    "    return df\n",
    "        "
   ]
  },
  {
   "cell_type": "code",
   "execution_count": 22,
   "metadata": {},
   "outputs": [
    {
     "name": "stdout",
     "output_type": "stream",
     "text": [
      "<class 'pandas.core.frame.DataFrame'>\n",
      "RangeIndex: 5429 entries, 0 to 5428\n",
      "Data columns (total 15 columns):\n",
      " #   Column          Non-Null Count  Dtype  \n",
      "---  ------          --------------  -----  \n",
      " 0   session_number  5429 non-null   int64  \n",
      " 1   client_agent    5429 non-null   int16  \n",
      " 2   device_details  5429 non-null   int8   \n",
      " 3   purchased       5429 non-null   int64  \n",
      " 4   added_in_cart   5429 non-null   int64  \n",
      " 5   checked_out     5429 non-null   int64  \n",
      " 6   time_spent      5429 non-null   float64\n",
      " 7   log_time_spent  5429 non-null   float64\n",
      " 8   Year            5429 non-null   int64  \n",
      " 9   Month           5429 non-null   int64  \n",
      " 10  Date            5429 non-null   int64  \n",
      " 11  Day_of_Year     5429 non-null   int64  \n",
      " 12  Week_Of_Year    5429 non-null   int64  \n",
      " 13  Quarter         5429 non-null   int64  \n",
      " 14  Day_Of_Week     5429 non-null   int64  \n",
      "dtypes: float64(2), int16(1), int64(11), int8(1)\n",
      "memory usage: 567.4 KB\n"
     ]
    }
   ],
   "source": [
    "df_final = fill_numbers(df_cat)\n",
    "df_final.info()"
   ]
  },
  {
   "cell_type": "code",
   "execution_count": 23,
   "metadata": {},
   "outputs": [
    {
     "data": {
      "text/plain": [
       "session_number    0\n",
       "client_agent      0\n",
       "device_details    0\n",
       "purchased         0\n",
       "added_in_cart     0\n",
       "checked_out       0\n",
       "time_spent        0\n",
       "log_time_spent    0\n",
       "Year              0\n",
       "Month             0\n",
       "Date              0\n",
       "Day_of_Year       0\n",
       "Week_Of_Year      0\n",
       "Quarter           0\n",
       "Day_Of_Week       0\n",
       "dtype: int64"
      ]
     },
     "execution_count": 23,
     "metadata": {},
     "output_type": "execute_result"
    }
   ],
   "source": [
    "df_final.isna().sum()"
   ]
  },
  {
   "cell_type": "code",
   "execution_count": 24,
   "metadata": {},
   "outputs": [
    {
     "data": {
      "text/html": [
       "<div>\n",
       "<style scoped>\n",
       "    .dataframe tbody tr th:only-of-type {\n",
       "        vertical-align: middle;\n",
       "    }\n",
       "\n",
       "    .dataframe tbody tr th {\n",
       "        vertical-align: top;\n",
       "    }\n",
       "\n",
       "    .dataframe thead th {\n",
       "        text-align: right;\n",
       "    }\n",
       "</style>\n",
       "<table border=\"1\" class=\"dataframe\">\n",
       "  <thead>\n",
       "    <tr style=\"text-align: right;\">\n",
       "      <th></th>\n",
       "      <th>session_number</th>\n",
       "      <th>client_agent</th>\n",
       "      <th>device_details</th>\n",
       "      <th>purchased</th>\n",
       "      <th>added_in_cart</th>\n",
       "      <th>checked_out</th>\n",
       "      <th>time_spent</th>\n",
       "      <th>log_time_spent</th>\n",
       "      <th>Year</th>\n",
       "      <th>Month</th>\n",
       "      <th>Date</th>\n",
       "      <th>Day_of_Year</th>\n",
       "      <th>Week_Of_Year</th>\n",
       "      <th>Quarter</th>\n",
       "      <th>Day_Of_Week</th>\n",
       "    </tr>\n",
       "  </thead>\n",
       "  <tbody>\n",
       "    <tr>\n",
       "      <th>0</th>\n",
       "      <td>715</td>\n",
       "      <td>270</td>\n",
       "      <td>7</td>\n",
       "      <td>1</td>\n",
       "      <td>0</td>\n",
       "      <td>0</td>\n",
       "      <td>236.886</td>\n",
       "      <td>5.467579</td>\n",
       "      <td>2020</td>\n",
       "      <td>1</td>\n",
       "      <td>22</td>\n",
       "      <td>22</td>\n",
       "      <td>4</td>\n",
       "      <td>1</td>\n",
       "      <td>2</td>\n",
       "    </tr>\n",
       "    <tr>\n",
       "      <th>1</th>\n",
       "      <td>55</td>\n",
       "      <td>689</td>\n",
       "      <td>17</td>\n",
       "      <td>1</td>\n",
       "      <td>0</td>\n",
       "      <td>0</td>\n",
       "      <td>1277.455</td>\n",
       "      <td>7.152625</td>\n",
       "      <td>2020</td>\n",
       "      <td>2</td>\n",
       "      <td>27</td>\n",
       "      <td>58</td>\n",
       "      <td>9</td>\n",
       "      <td>1</td>\n",
       "      <td>3</td>\n",
       "    </tr>\n",
       "    <tr>\n",
       "      <th>2</th>\n",
       "      <td>11</td>\n",
       "      <td>413</td>\n",
       "      <td>15</td>\n",
       "      <td>0</td>\n",
       "      <td>0</td>\n",
       "      <td>0</td>\n",
       "      <td>21.704</td>\n",
       "      <td>3.077497</td>\n",
       "      <td>2019</td>\n",
       "      <td>8</td>\n",
       "      <td>1</td>\n",
       "      <td>213</td>\n",
       "      <td>31</td>\n",
       "      <td>3</td>\n",
       "      <td>3</td>\n",
       "    </tr>\n",
       "    <tr>\n",
       "      <th>3</th>\n",
       "      <td>2794</td>\n",
       "      <td>356</td>\n",
       "      <td>9</td>\n",
       "      <td>0</td>\n",
       "      <td>1</td>\n",
       "      <td>0</td>\n",
       "      <td>455.201</td>\n",
       "      <td>6.120739</td>\n",
       "      <td>2019</td>\n",
       "      <td>12</td>\n",
       "      <td>30</td>\n",
       "      <td>364</td>\n",
       "      <td>1</td>\n",
       "      <td>4</td>\n",
       "      <td>0</td>\n",
       "    </tr>\n",
       "    <tr>\n",
       "      <th>4</th>\n",
       "      <td>3674</td>\n",
       "      <td>408</td>\n",
       "      <td>16</td>\n",
       "      <td>0</td>\n",
       "      <td>0</td>\n",
       "      <td>0</td>\n",
       "      <td>1164.877</td>\n",
       "      <td>7.060371</td>\n",
       "      <td>2019</td>\n",
       "      <td>9</td>\n",
       "      <td>10</td>\n",
       "      <td>253</td>\n",
       "      <td>37</td>\n",
       "      <td>3</td>\n",
       "      <td>1</td>\n",
       "    </tr>\n",
       "  </tbody>\n",
       "</table>\n",
       "</div>"
      ],
      "text/plain": [
       "   session_number  client_agent  device_details  purchased  added_in_cart  \\\n",
       "0             715           270               7          1              0   \n",
       "1              55           689              17          1              0   \n",
       "2              11           413              15          0              0   \n",
       "3            2794           356               9          0              1   \n",
       "4            3674           408              16          0              0   \n",
       "\n",
       "   checked_out  time_spent  log_time_spent  Year  Month  Date  Day_of_Year  \\\n",
       "0            0     236.886        5.467579  2020      1    22           22   \n",
       "1            0    1277.455        7.152625  2020      2    27           58   \n",
       "2            0      21.704        3.077497  2019      8     1          213   \n",
       "3            0     455.201        6.120739  2019     12    30          364   \n",
       "4            0    1164.877        7.060371  2019      9    10          253   \n",
       "\n",
       "   Week_Of_Year  Quarter  Day_Of_Week  \n",
       "0             4        1            2  \n",
       "1             9        1            3  \n",
       "2            31        3            3  \n",
       "3             1        4            0  \n",
       "4            37        3            1  "
      ]
     },
     "execution_count": 24,
     "metadata": {},
     "output_type": "execute_result"
    }
   ],
   "source": [
    "df_final.head()"
   ]
  },
  {
   "cell_type": "code",
   "execution_count": 25,
   "metadata": {},
   "outputs": [
    {
     "data": {
      "text/plain": [
       "(5429, 5429)"
      ]
     },
     "execution_count": 25,
     "metadata": {},
     "output_type": "execute_result"
    }
   ],
   "source": [
    "X = df_final.drop([\"time_spent\", \"log_time_spent\"], axis=1)\n",
    "y = df_final[\"log_time_spent\"]\n",
    "len(X), len(y)"
   ]
  },
  {
   "cell_type": "code",
   "execution_count": 26,
   "metadata": {},
   "outputs": [
    {
     "data": {
      "text/plain": [
       "(4343, 4343, 1086, 1086)"
      ]
     },
     "execution_count": 26,
     "metadata": {},
     "output_type": "execute_result"
    }
   ],
   "source": [
    "from sklearn.model_selection import train_test_split\n",
    "\n",
    "np.random.seed(55)\n",
    "X_train, X_val, y_train, y_val = train_test_split(X, y, test_size = 0.2)\n",
    "\n",
    "len(X_train), len(y_train), len(X_val), len(y_val)"
   ]
  },
  {
   "cell_type": "code",
   "execution_count": 27,
   "metadata": {},
   "outputs": [
    {
     "data": {
      "text/plain": [
       "2019    3165\n",
       "2020    1178\n",
       "Name: Year, dtype: int64"
      ]
     },
     "execution_count": 27,
     "metadata": {},
     "output_type": "execute_result"
    }
   ],
   "source": [
    "X_train.Year.value_counts()"
   ]
  },
  {
   "cell_type": "code",
   "execution_count": 28,
   "metadata": {},
   "outputs": [
    {
     "data": {
      "text/plain": [
       "2019    809\n",
       "2020    277\n",
       "Name: Year, dtype: int64"
      ]
     },
     "execution_count": 28,
     "metadata": {},
     "output_type": "execute_result"
    }
   ],
   "source": [
    "X_val.Year.value_counts()"
   ]
  },
  {
   "cell_type": "code",
   "execution_count": 29,
   "metadata": {},
   "outputs": [],
   "source": [
    "from sklearn.metrics import mean_squared_log_error, mean_absolute_error, r2_score\n",
    "\n",
    "# Building RMSLE error function\n",
    "def rmsle(y_test, y_preds):\n",
    "    \"\"\"\n",
    "    Returns Root Mean Squared Log error\n",
    "    \"\"\"\n",
    "    return np.sqrt(mean_squared_log_error(y_test, y_preds))\n",
    "\n",
    "def show_scores(model):\n",
    "    # predicting on the Test Data\n",
    "    train_preds = model.predict(X_train)\n",
    "    valid_preds = model.predict(X_val)\n",
    "    \n",
    "    # converting the Traget Logarithmic value to its corresponding Exponential value.\n",
    "    train_preds_actual = np.exp(train_preds)\n",
    "    valid_preds_actual = np.exp(valid_preds)\n",
    "    y_train_actual = np.exp(y_train)\n",
    "    y_val_actual = np.exp(y_val)\n",
    "    \n",
    "    scores = {\"Log Training MAE\": mean_absolute_error(y_train, train_preds),\n",
    "             \"Log Valid MAE\": mean_absolute_error(y_val, valid_preds),\n",
    "             \"Log Training RMSLE\": rmsle(y_train, train_preds),\n",
    "             \"Log Valid RMSLE\": rmsle(y_val, valid_preds),\n",
    "             \"Log Training R2 Score\": r2_score(y_train, train_preds),\n",
    "             \"Log Valid R2 Score\": r2_score(y_val, valid_preds),\n",
    "             \n",
    "             \"Actual Training MAE\": mean_absolute_error(y_train_actual, train_preds_actual),\n",
    "             \"Actual Valid MAE\": mean_absolute_error(y_val_actual, valid_preds_actual),\n",
    "             \"Actual Training RMSLE\": rmsle(y_train_actual, train_preds_actual),\n",
    "             \"Actual Valid RMSLE\": rmsle(y_val_actual, valid_preds_actual),\n",
    "             \"Actual Training R2 Score\": r2_score(y_train_actual, train_preds_actual),\n",
    "             \"Actual Valid R2 Score\": r2_score(y_val_actual, valid_preds_actual)}\n",
    "             \n",
    "    return scores   \n"
   ]
  },
  {
   "cell_type": "markdown",
   "metadata": {},
   "source": [
    "### #1. Using RandomForestRegressor.................."
   ]
  },
  {
   "cell_type": "code",
   "execution_count": 62,
   "metadata": {},
   "outputs": [],
   "source": [
    "from sklearn.ensemble import RandomForestRegressor\n",
    "\n",
    "model = RandomForestRegressor(n_jobs=-1,\n",
    "                             random_state=55)\n"
   ]
  },
  {
   "cell_type": "code",
   "execution_count": 63,
   "metadata": {},
   "outputs": [
    {
     "name": "stdout",
     "output_type": "stream",
     "text": [
      "Wall time: 507 ms\n"
     ]
    },
    {
     "data": {
      "text/plain": [
       "RandomForestRegressor(n_jobs=-1, random_state=55)"
      ]
     },
     "execution_count": 63,
     "metadata": {},
     "output_type": "execute_result"
    }
   ],
   "source": [
    "%%time\n",
    "model.fit(X_train, y_train)"
   ]
  },
  {
   "cell_type": "code",
   "execution_count": 64,
   "metadata": {},
   "outputs": [
    {
     "data": {
      "text/plain": [
       "{'Log Training MAE': 0.40417626580738303,\n",
       " 'Log Valid MAE': 1.114006033609297,\n",
       " 'Log Training RMSLE': 0.09129270763012261,\n",
       " 'Log Valid RMSLE': 0.24462468696657227,\n",
       " 'Log Training R2 Score': 0.907476391967195,\n",
       " 'Log Valid R2 Score': 0.3046014484260263,\n",
       " 'Actual Training MAE': 305.5096420469831,\n",
       " 'Actual Valid MAE': 575.1819806115171,\n",
       " 'Actual Training RMSLE': 0.5364498149673383,\n",
       " 'Actual Valid RMSLE': 1.4714123926499794,\n",
       " 'Actual Training R2 Score': 0.5424635854993044,\n",
       " 'Actual Valid R2 Score': 0.09625216745047971}"
      ]
     },
     "execution_count": 64,
     "metadata": {},
     "output_type": "execute_result"
    }
   ],
   "source": [
    "show_scores(model)"
   ]
  },
  {
   "cell_type": "code",
   "execution_count": 31,
   "metadata": {},
   "outputs": [
    {
     "data": {
      "text/plain": [
       "{'bootstrap': True,\n",
       " 'ccp_alpha': 0.0,\n",
       " 'criterion': 'mse',\n",
       " 'max_depth': None,\n",
       " 'max_features': 'auto',\n",
       " 'max_leaf_nodes': None,\n",
       " 'max_samples': None,\n",
       " 'min_impurity_decrease': 0.0,\n",
       " 'min_impurity_split': None,\n",
       " 'min_samples_leaf': 1,\n",
       " 'min_samples_split': 2,\n",
       " 'min_weight_fraction_leaf': 0.0,\n",
       " 'n_estimators': 100,\n",
       " 'n_jobs': -1,\n",
       " 'oob_score': False,\n",
       " 'random_state': 55,\n",
       " 'verbose': 0,\n",
       " 'warm_start': False}"
      ]
     },
     "execution_count": 31,
     "metadata": {},
     "output_type": "execute_result"
    }
   ],
   "source": [
    "model.get_params()"
   ]
  },
  {
   "cell_type": "code",
   "execution_count": 110,
   "metadata": {},
   "outputs": [],
   "source": [
    "from sklearn.model_selection import RandomizedSearchCV, GridSearchCV"
   ]
  },
  {
   "cell_type": "code",
   "execution_count": 52,
   "metadata": {},
   "outputs": [
    {
     "name": "stdout",
     "output_type": "stream",
     "text": [
      "Fitting 3 folds for each of 2 candidates, totalling 6 fits\n"
     ]
    },
    {
     "name": "stderr",
     "output_type": "stream",
     "text": [
      "[Parallel(n_jobs=1)]: Using backend SequentialBackend with 1 concurrent workers.\n",
      "[Parallel(n_jobs=1)]: Done   6 out of   6 | elapsed:    5.9s finished\n"
     ]
    },
    {
     "name": "stdout",
     "output_type": "stream",
     "text": [
      "Wall time: 6.42 s\n"
     ]
    },
    {
     "data": {
      "text/plain": [
       "RandomizedSearchCV(cv=3,\n",
       "                   estimator=RandomForestRegressor(n_jobs=-1, random_state=42),\n",
       "                   n_iter=2,\n",
       "                   param_distributions={'bootstrap': [True],\n",
       "                                        'max_depth': [None, 3, 5, 10, 20, 30,\n",
       "                                                      40, 50],\n",
       "                                        'max_features': [0.5, 1, 'sqrt',\n",
       "                                                         'auto'],\n",
       "                                        'min_samples_leaf': array([ 1,  3,  5,  7,  9, 11, 13, 15, 17, 19]),\n",
       "                                        'min_samples_split': array([ 2,  4,  6,  8, 10, 12, 14, 16, 18]),\n",
       "                                        'n_estimators': array([  10,  110,  210,  310,  410,  510,  610,  710,  810,  910, 1010,\n",
       "       1110, 1210, 1310, 1410, 1510, 1610, 1710, 1810, 1910])},\n",
       "                   verbose=True)"
      ]
     },
     "execution_count": 52,
     "metadata": {},
     "output_type": "execute_result"
    }
   ],
   "source": [
    "%%time\n",
    "\n",
    "# Different RandomForestRegressor hyperparameters\n",
    "rf_grid = {\"bootstrap\": [True],\n",
    "           \"n_estimators\": np.arange(10, 2000, 100),\n",
    "           \"max_depth\": [None, 3, 5, 10, 20, 30, 40, 50],\n",
    "           \"min_samples_split\": np.arange(2, 20, 2),\n",
    "           \"min_samples_leaf\": np.arange(1, 20, 2),\n",
    "           \"max_features\": [0.5, 1, \"sqrt\", \"auto\"]}\n",
    "\n",
    "# creating a model with the RandomizedSearchCV option.\n",
    "#changed the n_iter=500 \n",
    "rs_model = RandomizedSearchCV(RandomForestRegressor(n_jobs=-1,\n",
    "                                                   random_state=42),\n",
    "                             param_distributions=rf_grid,\n",
    "                             cv=3,\n",
    "                             n_iter=2,\n",
    "                             verbose=True)\n",
    "\n",
    "# Fitting the model rs_model\n",
    "rs_model.fit(X_train, y_train)"
   ]
  },
  {
   "cell_type": "code",
   "execution_count": 53,
   "metadata": {},
   "outputs": [
    {
     "data": {
      "text/plain": [
       "{'n_estimators': 210,\n",
       " 'min_samples_split': 2,\n",
       " 'min_samples_leaf': 15,\n",
       " 'max_features': 0.5,\n",
       " 'max_depth': 50,\n",
       " 'bootstrap': True}"
      ]
     },
     "execution_count": 53,
     "metadata": {},
     "output_type": "execute_result"
    }
   ],
   "source": [
    "rs_model.best_params_"
   ]
  },
  {
   "cell_type": "code",
   "execution_count": 36,
   "metadata": {},
   "outputs": [
    {
     "name": "stdout",
     "output_type": "stream",
     "text": [
      "Wall time: 0 ns\n"
     ]
    }
   ],
   "source": [
    "%%time\n",
    "\n",
    "# Different RandomForestRegressor hyperparameters\n",
    "rf_grid_CV = {\"bootstrap\": [True],\n",
    "           \"n_estimators\": np.arange(350, 380, 10),\n",
    "           \"max_depth\": [10],\n",
    "           \"min_samples_split\": np.arange(15, 20, 1),\n",
    "           \"min_samples_leaf\": np.arange(1, 5, 1),\n",
    "           \"max_features\": [\"sqrt\"]}\n",
    "\n",
    "gs_model = GridSearchCV(RandomForestRegressor(n_jobs=-1,\n",
    "                                             random_state=42),\n",
    "                       param_grid=rf_grid_CV,\n",
    "                       cv=3,\n",
    "                       verbose=True)\n",
    "\n",
    "#gs_model.fit(X_train, y_train)"
   ]
  },
  {
   "cell_type": "code",
   "execution_count": 37,
   "metadata": {},
   "outputs": [
    {
     "ename": "NameError",
     "evalue": "name 'gs_modelodel' is not defined",
     "output_type": "error",
     "traceback": [
      "\u001b[1;31m---------------------------------------------------------------------------\u001b[0m",
      "\u001b[1;31mNameError\u001b[0m                                 Traceback (most recent call last)",
      "\u001b[1;32m<ipython-input-37-85a7b707a14e>\u001b[0m in \u001b[0;36m<module>\u001b[1;34m\u001b[0m\n\u001b[1;32m----> 1\u001b[1;33m \u001b[0mgs_modelodel\u001b[0m\u001b[1;33m.\u001b[0m\u001b[0mbest_params_\u001b[0m\u001b[1;33m\u001b[0m\u001b[1;33m\u001b[0m\u001b[0m\n\u001b[0m",
      "\u001b[1;31mNameError\u001b[0m: name 'gs_modelodel' is not defined"
     ]
    }
   ],
   "source": [
    "gs_modelodel.best_params_"
   ]
  },
  {
   "cell_type": "code",
   "execution_count": 38,
   "metadata": {},
   "outputs": [
    {
     "name": "stdout",
     "output_type": "stream",
     "text": [
      "Wall time: 1.86 s\n"
     ]
    },
    {
     "data": {
      "text/plain": [
       "RandomForestRegressor(max_depth=10, max_features='sqrt', min_samples_split=19,\n",
       "                      n_estimators=370, n_jobs=-1, random_state=42)"
      ]
     },
     "execution_count": 38,
     "metadata": {},
     "output_type": "execute_result"
    }
   ],
   "source": [
    "%%time\n",
    "\n",
    "rf_final_model = RandomForestRegressor(n_estimators=370,\n",
    "                                       min_samples_split=19,\n",
    "                                       min_samples_leaf=1,\n",
    "                                       max_features='sqrt',\n",
    "                                       max_depth=10,\n",
    "                                       n_jobs=-1,\n",
    "                                       bootstrap=True,\n",
    "                                      random_state=42)\n",
    "\n",
    "rf_final_model.fit(X_train, y_train)"
   ]
  },
  {
   "cell_type": "code",
   "execution_count": 39,
   "metadata": {},
   "outputs": [
    {
     "data": {
      "text/plain": [
       "{'Training MAE': 581.434348227732,\n",
       " 'Valid MAE': 692.5092766443979,\n",
       " 'Training RMSLE': 1.827139207044375,\n",
       " 'Valid RMSLE': 1.8963176507666455,\n",
       " 'Training R2 Score': 0.41733746306163433,\n",
       " 'Valid R2 Score': 0.2278536750346648}"
      ]
     },
     "execution_count": 39,
     "metadata": {},
     "output_type": "execute_result"
    }
   ],
   "source": [
    "random_forest_score = show_scores(rf_final_model)\n",
    "random_forest_score"
   ]
  },
  {
   "cell_type": "markdown",
   "metadata": {},
   "source": [
    "### #2. Using SVR(Support Vector Regression) on Linear, Polynomial and RBF Kernels..\n",
    "\n",
    "**Note:**  Polynomial does not accept -ve numbers."
   ]
  },
  {
   "cell_type": "code",
   "execution_count": 28,
   "metadata": {},
   "outputs": [],
   "source": [
    "from sklearn import svm"
   ]
  },
  {
   "cell_type": "markdown",
   "metadata": {},
   "source": [
    "#### RBF Kernel Model....\n",
    "The model is predicting only the mean."
   ]
  },
  {
   "cell_type": "code",
   "execution_count": 29,
   "metadata": {},
   "outputs": [
    {
     "data": {
      "text/plain": [
       "SVR(C=100, gamma=0.1)"
      ]
     },
     "execution_count": 29,
     "metadata": {},
     "output_type": "execute_result"
    }
   ],
   "source": [
    "rbf_svc = svm.SVR(kernel='rbf', C=100, gamma=0.1, epsilon=.1)\n",
    "rbf_svc.fit(X_train, y_train)"
   ]
  },
  {
   "cell_type": "code",
   "execution_count": 30,
   "metadata": {},
   "outputs": [
    {
     "data": {
      "text/plain": [
       "{'Log Training MAE': 0.0985508046265056,\n",
       " 'Log Valid MAE': 1.570009860930257,\n",
       " 'Log Training RMSLE': 0.018929819545328064,\n",
       " 'Log Valid RMSLE': 0.29972762955119453,\n",
       " 'Log Training R2 Score': 0.9969072511865352,\n",
       " 'Log Valid R2 Score': -5.4506361009565296e-05,\n",
       " 'Actual Training MAE': 62.34257556569167,\n",
       " 'Actual Valid MAE': 663.607450132743,\n",
       " 'Actual Training RMSLE': 0.09718042952873476,\n",
       " 'Actual Valid RMSLE': 1.7699659103219154,\n",
       " 'Actual Training R2 Score': 0.9895169775984936,\n",
       " 'Actual Valid R2 Score': -0.08150885952447329}"
      ]
     },
     "execution_count": 30,
     "metadata": {},
     "output_type": "execute_result"
    }
   ],
   "source": [
    "rbf_svc_score = show_scores(rbf_svc)\n",
    "rbf_svc_score"
   ]
  },
  {
   "cell_type": "markdown",
   "metadata": {},
   "source": [
    "#### Linear Kernel Model....\n",
    "The linear model is taking a lot of time to train.. So we will skip this and try other one.. Polynomial.."
   ]
  },
  {
   "cell_type": "code",
   "execution_count": null,
   "metadata": {},
   "outputs": [],
   "source": [
    "#linear_svc = svm.SVR(kernel='linear', C=100, gamma='auto')\n",
    "#linear_svc.fit(X_train, y_train)"
   ]
  },
  {
   "cell_type": "code",
   "execution_count": null,
   "metadata": {},
   "outputs": [],
   "source": [
    "#linear_svc_score = show_sores(linear_svc)"
   ]
  },
  {
   "cell_type": "code",
   "execution_count": 2,
   "metadata": {},
   "outputs": [
    {
     "name": "stdout",
     "output_type": "stream",
     "text": [
      "Requirement already satisfied: catboost in a:\\ml\\env\\lib\\site-packages (0.24.3)\n",
      "Requirement already satisfied: scipy in a:\\ml\\env\\lib\\site-packages (from catboost) (1.5.2)\n",
      "Requirement already satisfied: numpy>=1.16.0 in a:\\ml\\env\\lib\\site-packages (from catboost) (1.19.2)\n",
      "Requirement already satisfied: matplotlib in a:\\ml\\env\\lib\\site-packages (from catboost) (3.3.2)\n",
      "Requirement already satisfied: graphviz in a:\\ml\\env\\lib\\site-packages (from catboost) (0.15)\n",
      "Requirement already satisfied: six in a:\\ml\\env\\lib\\site-packages (from catboost) (1.15.0)\n",
      "Requirement already satisfied: plotly in a:\\ml\\env\\lib\\site-packages (from catboost) (4.14.1)\n",
      "Requirement already satisfied: pandas>=0.24.0 in a:\\ml\\env\\lib\\site-packages (from catboost) (1.1.3)\n",
      "Requirement already satisfied: cycler>=0.10 in a:\\ml\\env\\lib\\site-packages (from matplotlib->catboost) (0.10.0)\n",
      "Requirement already satisfied: pillow>=6.2.0 in a:\\ml\\env\\lib\\site-packages (from matplotlib->catboost) (8.0.1)\n",
      "Requirement already satisfied: kiwisolver>=1.0.1 in a:\\ml\\env\\lib\\site-packages (from matplotlib->catboost) (1.3.0)\n",
      "Requirement already satisfied: certifi>=2020.06.20 in a:\\ml\\env\\lib\\site-packages (from matplotlib->catboost) (2020.11.8)\n",
      "Requirement already satisfied: python-dateutil>=2.1 in a:\\ml\\env\\lib\\site-packages (from matplotlib->catboost) (2.8.1)\n",
      "Requirement already satisfied: pyparsing!=2.0.4,!=2.1.2,!=2.1.6,>=2.0.3 in a:\\ml\\env\\lib\\site-packages (from matplotlib->catboost) (2.4.7)\n",
      "Requirement already satisfied: retrying>=1.3.3 in a:\\ml\\env\\lib\\site-packages (from plotly->catboost) (1.3.3)\n",
      "Requirement already satisfied: pytz>=2017.2 in a:\\ml\\env\\lib\\site-packages (from pandas>=0.24.0->catboost) (2020.1)\n"
     ]
    }
   ],
   "source": [
    "!pip install catboost"
   ]
  },
  {
   "cell_type": "markdown",
   "metadata": {},
   "source": [
    "The Polynomial model is also taking a lot of time to train.. "
   ]
  },
  {
   "cell_type": "code",
   "execution_count": null,
   "metadata": {},
   "outputs": [],
   "source": [
    "#poly_svc = svm.SVR(kernel='poly', C=100, gamma='auto', degree=3, epsilon=.1, coef0=1)\n",
    "#poly_svc.fit(X_train, y_train)"
   ]
  },
  {
   "cell_type": "code",
   "execution_count": 46,
   "metadata": {},
   "outputs": [
    {
     "name": "stdout",
     "output_type": "stream",
     "text": [
      "Collecting bayesian-optimization\n",
      "  Downloading bayesian-optimization-1.2.0.tar.gz (14 kB)\n",
      "Requirement already satisfied: numpy>=1.9.0 in a:\\ml\\env\\lib\\site-packages (from bayesian-optimization) (1.19.2)\n",
      "Requirement already satisfied: scipy>=0.14.0 in a:\\ml\\env\\lib\\site-packages (from bayesian-optimization) (1.5.2)\n",
      "Requirement already satisfied: scikit-learn>=0.18.0 in a:\\ml\\env\\lib\\site-packages (from bayesian-optimization) (0.23.2)\n",
      "Requirement already satisfied: joblib>=0.11 in a:\\ml\\env\\lib\\site-packages (from scikit-learn>=0.18.0->bayesian-optimization) (0.17.0)\n",
      "Requirement already satisfied: threadpoolctl>=2.0.0 in a:\\ml\\env\\lib\\site-packages (from scikit-learn>=0.18.0->bayesian-optimization) (2.1.0)\n",
      "Building wheels for collected packages: bayesian-optimization\n",
      "  Building wheel for bayesian-optimization (setup.py): started\n",
      "  Building wheel for bayesian-optimization (setup.py): finished with status 'done'\n",
      "  Created wheel for bayesian-optimization: filename=bayesian_optimization-1.2.0-py3-none-any.whl size=11690 sha256=73bcf0a1820dd7678ba0d416bbae79b8a48318fd6125148f7d16b7112962c47f\n",
      "  Stored in directory: c:\\users\\arnab aline\\appdata\\local\\pip\\cache\\wheels\\37\\fa\\19\\f93e793d3944567a60b3ab93b446cf7370cc82c60c1d1c613f\n",
      "Successfully built bayesian-optimization\n",
      "Installing collected packages: bayesian-optimization\n",
      "Successfully installed bayesian-optimization-1.2.0\n"
     ]
    }
   ],
   "source": [
    "!pip install bayesian-optimization"
   ]
  },
  {
   "cell_type": "markdown",
   "metadata": {},
   "source": [
    "## #3. Cat Boost"
   ]
  },
  {
   "cell_type": "code",
   "execution_count": 54,
   "metadata": {},
   "outputs": [
    {
     "name": "stdout",
     "output_type": "stream",
     "text": [
      "Requirement already satisfied: catboost in a:\\ml\\env\\lib\\site-packages (0.24.3)\n",
      "Requirement already satisfied: matplotlib in a:\\ml\\env\\lib\\site-packages (from catboost) (3.3.2)\n",
      "Requirement already satisfied: six in a:\\ml\\env\\lib\\site-packages (from catboost) (1.15.0)\n",
      "Requirement already satisfied: graphviz in a:\\ml\\env\\lib\\site-packages (from catboost) (0.15)\n",
      "Requirement already satisfied: pandas>=0.24.0 in a:\\ml\\env\\lib\\site-packages (from catboost) (1.1.3)\n",
      "Requirement already satisfied: scipy in a:\\ml\\env\\lib\\site-packages (from catboost) (1.5.2)\n",
      "Requirement already satisfied: numpy>=1.16.0 in a:\\ml\\env\\lib\\site-packages (from catboost) (1.19.2)\n",
      "Requirement already satisfied: plotly in a:\\ml\\env\\lib\\site-packages (from catboost) (4.14.1)\n",
      "Requirement already satisfied: pillow>=6.2.0 in a:\\ml\\env\\lib\\site-packages (from matplotlib->catboost) (8.0.1)\n",
      "Requirement already satisfied: certifi>=2020.06.20 in a:\\ml\\env\\lib\\site-packages (from matplotlib->catboost) (2020.11.8)\n",
      "Requirement already satisfied: python-dateutil>=2.1 in a:\\ml\\env\\lib\\site-packages (from matplotlib->catboost) (2.8.1)\n",
      "Requirement already satisfied: cycler>=0.10 in a:\\ml\\env\\lib\\site-packages (from matplotlib->catboost) (0.10.0)\n",
      "Requirement already satisfied: pyparsing!=2.0.4,!=2.1.2,!=2.1.6,>=2.0.3 in a:\\ml\\env\\lib\\site-packages (from matplotlib->catboost) (2.4.7)\n",
      "Requirement already satisfied: kiwisolver>=1.0.1 in a:\\ml\\env\\lib\\site-packages (from matplotlib->catboost) (1.3.0)\n",
      "Requirement already satisfied: pytz>=2017.2 in a:\\ml\\env\\lib\\site-packages (from pandas>=0.24.0->catboost) (2020.1)\n",
      "Requirement already satisfied: retrying>=1.3.3 in a:\\ml\\env\\lib\\site-packages (from plotly->catboost) (1.3.3)\n"
     ]
    }
   ],
   "source": [
    "!pip install catboost"
   ]
  },
  {
   "cell_type": "code",
   "execution_count": 43,
   "metadata": {},
   "outputs": [],
   "source": [
    "from catboost import CatBoostRegressor"
   ]
  },
  {
   "cell_type": "code",
   "execution_count": 67,
   "metadata": {},
   "outputs": [
    {
     "data": {
      "text/plain": [
       "{'Log Training MAE': 0.8106753892080495,\n",
       " 'Log Valid MAE': 1.101542060580025,\n",
       " 'Log Training RMSLE': 0.17401937115894656,\n",
       " 'Log Valid RMSLE': 0.23434906695493324,\n",
       " 'Log Training R2 Score': 0.6558346001275067,\n",
       " 'Log Valid R2 Score': 0.3676337108834853,\n",
       " 'Actual Training MAE': 447.23682544894444,\n",
       " 'Actual Valid MAE': 556.4882570314219,\n",
       " 'Actual Training RMSLE': 1.0361156287828022,\n",
       " 'Actual Valid RMSLE': 1.402921806929454,\n",
       " 'Actual Training R2 Score': 0.2947079136127394,\n",
       " 'Actual Valid R2 Score': 0.12055790484685447}"
      ]
     },
     "execution_count": 67,
     "metadata": {},
     "output_type": "execute_result"
    }
   ],
   "source": [
    "cbr = CatBoostRegressor(logging_level='Silent', random_state=1024, \n",
    "                        early_stopping_rounds=300)\n",
    "cbr.fit(X_train, y_train)\n",
    "show_scores(cbr)"
   ]
  },
  {
   "cell_type": "code",
   "execution_count": 44,
   "metadata": {},
   "outputs": [
    {
     "data": {
      "text/plain": [
       "{'loss_function': 'RMSE',\n",
       " 'logging_level': 'Silent',\n",
       " 'random_state': 1024,\n",
       " 'early_stopping_rounds': 300}"
      ]
     },
     "execution_count": 44,
     "metadata": {},
     "output_type": "execute_result"
    }
   ],
   "source": [
    "cbr.get_params()"
   ]
  },
  {
   "cell_type": "code",
   "execution_count": 45,
   "metadata": {},
   "outputs": [
    {
     "name": "stdout",
     "output_type": "stream",
     "text": [
      "<class 'pandas.core.frame.DataFrame'>\n",
      "RangeIndex: 5429 entries, 0 to 5428\n",
      "Data columns (total 15 columns):\n",
      " #   Column          Non-Null Count  Dtype  \n",
      "---  ------          --------------  -----  \n",
      " 0   session_number  5429 non-null   int64  \n",
      " 1   client_agent    5429 non-null   int16  \n",
      " 2   device_details  5429 non-null   int8   \n",
      " 3   purchased       5429 non-null   int64  \n",
      " 4   added_in_cart   5429 non-null   int64  \n",
      " 5   checked_out     5429 non-null   int64  \n",
      " 6   time_spent      5429 non-null   float64\n",
      " 7   log_time_spent  5429 non-null   float64\n",
      " 8   Year            5429 non-null   int64  \n",
      " 9   Month           5429 non-null   int64  \n",
      " 10  Date            5429 non-null   int64  \n",
      " 11  Day_of_Year     5429 non-null   int64  \n",
      " 12  Week_Of_Year    5429 non-null   int64  \n",
      " 13  Quarter         5429 non-null   int64  \n",
      " 14  Day_Of_Week     5429 non-null   int64  \n",
      "dtypes: float64(2), int16(1), int64(11), int8(1)\n",
      "memory usage: 567.4 KB\n"
     ]
    }
   ],
   "source": [
    "df_final.info()"
   ]
  },
  {
   "cell_type": "code",
   "execution_count": 45,
   "metadata": {},
   "outputs": [
    {
     "name": "stdout",
     "output_type": "stream",
     "text": [
      "<class 'pandas.core.frame.DataFrame'>\n",
      "Int64Index: 4343 entries, 786 to 4557\n",
      "Data columns (total 13 columns):\n",
      " #   Column          Non-Null Count  Dtype\n",
      "---  ------          --------------  -----\n",
      " 0   session_number  4343 non-null   int64\n",
      " 1   client_agent    4343 non-null   int16\n",
      " 2   device_details  4343 non-null   int8 \n",
      " 3   purchased       4343 non-null   int64\n",
      " 4   added_in_cart   4343 non-null   int64\n",
      " 5   checked_out     4343 non-null   int64\n",
      " 6   Year            4343 non-null   int64\n",
      " 7   Month           4343 non-null   int64\n",
      " 8   Date            4343 non-null   int64\n",
      " 9   Day_of_Year     4343 non-null   int64\n",
      " 10  Week_Of_Year    4343 non-null   int64\n",
      " 11  Quarter         4343 non-null   int64\n",
      " 12  Day_Of_Week     4343 non-null   int64\n",
      "dtypes: int16(1), int64(11), int8(1)\n",
      "memory usage: 419.9 KB\n"
     ]
    },
    {
     "data": {
      "text/plain": [
       "(4343, 4343, None)"
      ]
     },
     "execution_count": 45,
     "metadata": {},
     "output_type": "execute_result"
    }
   ],
   "source": [
    "len(X_train), len(y_train), X_train.info()\n"
   ]
  },
  {
   "cell_type": "code",
   "execution_count": 44,
   "metadata": {},
   "outputs": [
    {
     "name": "stderr",
     "output_type": "stream",
     "text": [
      "A:\\ML\\env\\lib\\site-packages\\sklearn\\utils\\validation.py:67: FutureWarning: Pass groups=[0, 1, 2, 3] as keyword args. From version 0.25 passing these as positional arguments will result in an error\n",
      "  warnings.warn(\"Pass {} as keyword args. From version 0.25 \"\n"
     ]
    },
    {
     "ename": "ValueError",
     "evalue": "Found input variables with inconsistent numbers of samples: [4343, 4343, 4]",
     "output_type": "error",
     "traceback": [
      "\u001b[1;31m---------------------------------------------------------------------------\u001b[0m",
      "\u001b[1;31mValueError\u001b[0m                                Traceback (most recent call last)",
      "\u001b[1;32m<timed exec>\u001b[0m in \u001b[0;36m<module>\u001b[1;34m\u001b[0m\n",
      "\u001b[1;32mA:\\ML\\env\\lib\\site-packages\\sklearn\\utils\\validation.py\u001b[0m in \u001b[0;36minner_f\u001b[1;34m(*args, **kwargs)\u001b[0m\n\u001b[0;32m     70\u001b[0m                           FutureWarning)\n\u001b[0;32m     71\u001b[0m         \u001b[0mkwargs\u001b[0m\u001b[1;33m.\u001b[0m\u001b[0mupdate\u001b[0m\u001b[1;33m(\u001b[0m\u001b[1;33m{\u001b[0m\u001b[0mk\u001b[0m\u001b[1;33m:\u001b[0m \u001b[0marg\u001b[0m \u001b[1;32mfor\u001b[0m \u001b[0mk\u001b[0m\u001b[1;33m,\u001b[0m \u001b[0marg\u001b[0m \u001b[1;32min\u001b[0m \u001b[0mzip\u001b[0m\u001b[1;33m(\u001b[0m\u001b[0msig\u001b[0m\u001b[1;33m.\u001b[0m\u001b[0mparameters\u001b[0m\u001b[1;33m,\u001b[0m \u001b[0margs\u001b[0m\u001b[1;33m)\u001b[0m\u001b[1;33m}\u001b[0m\u001b[1;33m)\u001b[0m\u001b[1;33m\u001b[0m\u001b[1;33m\u001b[0m\u001b[0m\n\u001b[1;32m---> 72\u001b[1;33m         \u001b[1;32mreturn\u001b[0m \u001b[0mf\u001b[0m\u001b[1;33m(\u001b[0m\u001b[1;33m**\u001b[0m\u001b[0mkwargs\u001b[0m\u001b[1;33m)\u001b[0m\u001b[1;33m\u001b[0m\u001b[1;33m\u001b[0m\u001b[0m\n\u001b[0m\u001b[0;32m     73\u001b[0m     \u001b[1;32mreturn\u001b[0m \u001b[0minner_f\u001b[0m\u001b[1;33m\u001b[0m\u001b[1;33m\u001b[0m\u001b[0m\n\u001b[0;32m     74\u001b[0m \u001b[1;33m\u001b[0m\u001b[0m\n",
      "\u001b[1;32mA:\\ML\\env\\lib\\site-packages\\sklearn\\model_selection\\_search.py\u001b[0m in \u001b[0;36mfit\u001b[1;34m(self, X, y, groups, **fit_params)\u001b[0m\n\u001b[0;32m    674\u001b[0m             \u001b[0mrefit_metric\u001b[0m \u001b[1;33m=\u001b[0m \u001b[1;34m'score'\u001b[0m\u001b[1;33m\u001b[0m\u001b[1;33m\u001b[0m\u001b[0m\n\u001b[0;32m    675\u001b[0m \u001b[1;33m\u001b[0m\u001b[0m\n\u001b[1;32m--> 676\u001b[1;33m         \u001b[0mX\u001b[0m\u001b[1;33m,\u001b[0m \u001b[0my\u001b[0m\u001b[1;33m,\u001b[0m \u001b[0mgroups\u001b[0m \u001b[1;33m=\u001b[0m \u001b[0mindexable\u001b[0m\u001b[1;33m(\u001b[0m\u001b[0mX\u001b[0m\u001b[1;33m,\u001b[0m \u001b[0my\u001b[0m\u001b[1;33m,\u001b[0m \u001b[0mgroups\u001b[0m\u001b[1;33m)\u001b[0m\u001b[1;33m\u001b[0m\u001b[1;33m\u001b[0m\u001b[0m\n\u001b[0m\u001b[0;32m    677\u001b[0m         \u001b[0mfit_params\u001b[0m \u001b[1;33m=\u001b[0m \u001b[0m_check_fit_params\u001b[0m\u001b[1;33m(\u001b[0m\u001b[0mX\u001b[0m\u001b[1;33m,\u001b[0m \u001b[0mfit_params\u001b[0m\u001b[1;33m)\u001b[0m\u001b[1;33m\u001b[0m\u001b[1;33m\u001b[0m\u001b[0m\n\u001b[0;32m    678\u001b[0m \u001b[1;33m\u001b[0m\u001b[0m\n",
      "\u001b[1;32mA:\\ML\\env\\lib\\site-packages\\sklearn\\utils\\validation.py\u001b[0m in \u001b[0;36mindexable\u001b[1;34m(*iterables)\u001b[0m\n\u001b[0;32m    290\u001b[0m     \"\"\"\n\u001b[0;32m    291\u001b[0m     \u001b[0mresult\u001b[0m \u001b[1;33m=\u001b[0m \u001b[1;33m[\u001b[0m\u001b[0m_make_indexable\u001b[0m\u001b[1;33m(\u001b[0m\u001b[0mX\u001b[0m\u001b[1;33m)\u001b[0m \u001b[1;32mfor\u001b[0m \u001b[0mX\u001b[0m \u001b[1;32min\u001b[0m \u001b[0miterables\u001b[0m\u001b[1;33m]\u001b[0m\u001b[1;33m\u001b[0m\u001b[1;33m\u001b[0m\u001b[0m\n\u001b[1;32m--> 292\u001b[1;33m     \u001b[0mcheck_consistent_length\u001b[0m\u001b[1;33m(\u001b[0m\u001b[1;33m*\u001b[0m\u001b[0mresult\u001b[0m\u001b[1;33m)\u001b[0m\u001b[1;33m\u001b[0m\u001b[1;33m\u001b[0m\u001b[0m\n\u001b[0m\u001b[0;32m    293\u001b[0m     \u001b[1;32mreturn\u001b[0m \u001b[0mresult\u001b[0m\u001b[1;33m\u001b[0m\u001b[1;33m\u001b[0m\u001b[0m\n\u001b[0;32m    294\u001b[0m \u001b[1;33m\u001b[0m\u001b[0m\n",
      "\u001b[1;32mA:\\ML\\env\\lib\\site-packages\\sklearn\\utils\\validation.py\u001b[0m in \u001b[0;36mcheck_consistent_length\u001b[1;34m(*arrays)\u001b[0m\n\u001b[0;32m    253\u001b[0m     \u001b[0muniques\u001b[0m \u001b[1;33m=\u001b[0m \u001b[0mnp\u001b[0m\u001b[1;33m.\u001b[0m\u001b[0munique\u001b[0m\u001b[1;33m(\u001b[0m\u001b[0mlengths\u001b[0m\u001b[1;33m)\u001b[0m\u001b[1;33m\u001b[0m\u001b[1;33m\u001b[0m\u001b[0m\n\u001b[0;32m    254\u001b[0m     \u001b[1;32mif\u001b[0m \u001b[0mlen\u001b[0m\u001b[1;33m(\u001b[0m\u001b[0muniques\u001b[0m\u001b[1;33m)\u001b[0m \u001b[1;33m>\u001b[0m \u001b[1;36m1\u001b[0m\u001b[1;33m:\u001b[0m\u001b[1;33m\u001b[0m\u001b[1;33m\u001b[0m\u001b[0m\n\u001b[1;32m--> 255\u001b[1;33m         raise ValueError(\"Found input variables with inconsistent numbers of\"\n\u001b[0m\u001b[0;32m    256\u001b[0m                          \" samples: %r\" % [int(l) for l in lengths])\n\u001b[0;32m    257\u001b[0m \u001b[1;33m\u001b[0m\u001b[0m\n",
      "\u001b[1;31mValueError\u001b[0m: Found input variables with inconsistent numbers of samples: [4343, 4343, 4]"
     ]
    }
   ],
   "source": [
    "%%time\n",
    "\n",
    "cat_features = [0, 1, 2, 3]\n",
    "# Different CatBoostRegressor hyperparameters\n",
    "CatBoost_grid_CV = {\"depth\": [6, 8, 10],\n",
    "                    \"learning_rate\": [0.01, 0.05, 0.1],\n",
    "                    \"iterations\": [30, 50, 100]\n",
    "                   }\n",
    "\n",
    "catboost_gs_model = GridSearchCV(CatBoostRegressor(random_state=42),\n",
    "                       param_grid=CatBoost_grid_CV,\n",
    "                       cv=3,\n",
    "                       n_jobs=-1,          \n",
    "                       verbose=True\n",
    "                        )\n",
    "\n",
    "catboost_gs_model.fit(X_train, y_train, cat_features)\n",
    "#catboost_gs_model.fit(X_train, y_train)"
   ]
  },
  {
   "cell_type": "code",
   "execution_count": 72,
   "metadata": {},
   "outputs": [
    {
     "data": {
      "text/plain": [
       "(<catboost.core.CatBoostRegressor at 0x24485f4f670>,\n",
       " 0.3837194272348019,\n",
       " {'depth': 6, 'iterations': 100, 'learning_rate': 0.1})"
      ]
     },
     "execution_count": 72,
     "metadata": {},
     "output_type": "execute_result"
    }
   ],
   "source": [
    "catboost_gs_model.best_estimator_, catboost_gs_model.best_score_, catboost_gs_model.best_params_"
   ]
  },
  {
   "cell_type": "code",
   "execution_count": 73,
   "metadata": {},
   "outputs": [
    {
     "name": "stdout",
     "output_type": "stream",
     "text": [
      "0:\tlearn: 1.7306191\ttotal: 8.02ms\tremaining: 794ms\n",
      "1:\tlearn: 1.6850113\ttotal: 10.8ms\tremaining: 529ms\n",
      "2:\tlearn: 1.6475066\ttotal: 15.1ms\tremaining: 490ms\n",
      "3:\tlearn: 1.6112481\ttotal: 19.4ms\tremaining: 465ms\n",
      "4:\tlearn: 1.5843353\ttotal: 23.7ms\tremaining: 451ms\n",
      "5:\tlearn: 1.5622272\ttotal: 26.1ms\tremaining: 409ms\n",
      "6:\tlearn: 1.5395710\ttotal: 30.7ms\tremaining: 407ms\n",
      "7:\tlearn: 1.5206117\ttotal: 35.1ms\tremaining: 403ms\n",
      "8:\tlearn: 1.5077066\ttotal: 39.4ms\tremaining: 398ms\n",
      "9:\tlearn: 1.4954683\ttotal: 44.4ms\tremaining: 399ms\n",
      "10:\tlearn: 1.4857307\ttotal: 48.6ms\tremaining: 393ms\n",
      "11:\tlearn: 1.4746825\ttotal: 52.9ms\tremaining: 388ms\n",
      "12:\tlearn: 1.4684938\ttotal: 58.7ms\tremaining: 393ms\n",
      "13:\tlearn: 1.4630364\ttotal: 63ms\tremaining: 387ms\n",
      "14:\tlearn: 1.4549173\ttotal: 67.2ms\tremaining: 381ms\n",
      "15:\tlearn: 1.4486647\ttotal: 71.7ms\tremaining: 376ms\n",
      "16:\tlearn: 1.4433245\ttotal: 76.3ms\tremaining: 372ms\n",
      "17:\tlearn: 1.4370068\ttotal: 81ms\tremaining: 369ms\n",
      "18:\tlearn: 1.4306828\ttotal: 85.5ms\tremaining: 364ms\n",
      "19:\tlearn: 1.4269026\ttotal: 91.4ms\tremaining: 365ms\n",
      "20:\tlearn: 1.4196365\ttotal: 95.7ms\tremaining: 360ms\n",
      "21:\tlearn: 1.4149053\ttotal: 99.8ms\tremaining: 354ms\n",
      "22:\tlearn: 1.4105194\ttotal: 104ms\tremaining: 349ms\n",
      "23:\tlearn: 1.4062531\ttotal: 109ms\tremaining: 344ms\n",
      "24:\tlearn: 1.4043233\ttotal: 114ms\tremaining: 341ms\n",
      "25:\tlearn: 1.4018812\ttotal: 119ms\tremaining: 338ms\n",
      "26:\tlearn: 1.3986724\ttotal: 124ms\tremaining: 335ms\n",
      "27:\tlearn: 1.3953753\ttotal: 129ms\tremaining: 331ms\n",
      "28:\tlearn: 1.3926565\ttotal: 133ms\tremaining: 325ms\n",
      "29:\tlearn: 1.3899432\ttotal: 137ms\tremaining: 320ms\n",
      "30:\tlearn: 1.3884727\ttotal: 142ms\tremaining: 315ms\n",
      "31:\tlearn: 1.3864250\ttotal: 147ms\tremaining: 313ms\n",
      "32:\tlearn: 1.3848358\ttotal: 154ms\tremaining: 313ms\n",
      "33:\tlearn: 1.3825928\ttotal: 158ms\tremaining: 307ms\n",
      "34:\tlearn: 1.3800251\ttotal: 163ms\tremaining: 302ms\n",
      "35:\tlearn: 1.3789584\ttotal: 167ms\tremaining: 296ms\n",
      "36:\tlearn: 1.3764669\ttotal: 171ms\tremaining: 291ms\n",
      "37:\tlearn: 1.3746512\ttotal: 175ms\tremaining: 286ms\n",
      "38:\tlearn: 1.3724838\ttotal: 180ms\tremaining: 281ms\n",
      "39:\tlearn: 1.3711836\ttotal: 184ms\tremaining: 276ms\n",
      "40:\tlearn: 1.3679027\ttotal: 189ms\tremaining: 271ms\n",
      "41:\tlearn: 1.3656677\ttotal: 193ms\tremaining: 267ms\n",
      "42:\tlearn: 1.3643853\ttotal: 197ms\tremaining: 261ms\n",
      "43:\tlearn: 1.3616430\ttotal: 201ms\tremaining: 256ms\n",
      "44:\tlearn: 1.3593779\ttotal: 206ms\tremaining: 251ms\n",
      "45:\tlearn: 1.3581607\ttotal: 210ms\tremaining: 247ms\n",
      "46:\tlearn: 1.3564479\ttotal: 215ms\tremaining: 242ms\n",
      "47:\tlearn: 1.3551012\ttotal: 219ms\tremaining: 237ms\n",
      "48:\tlearn: 1.3531501\ttotal: 223ms\tremaining: 233ms\n",
      "49:\tlearn: 1.3515804\ttotal: 227ms\tremaining: 227ms\n",
      "50:\tlearn: 1.3504763\ttotal: 231ms\tremaining: 221ms\n",
      "51:\tlearn: 1.3483103\ttotal: 234ms\tremaining: 216ms\n",
      "52:\tlearn: 1.3465123\ttotal: 237ms\tremaining: 210ms\n",
      "53:\tlearn: 1.3442194\ttotal: 242ms\tremaining: 206ms\n",
      "54:\tlearn: 1.3430486\ttotal: 246ms\tremaining: 201ms\n",
      "55:\tlearn: 1.3417753\ttotal: 250ms\tremaining: 196ms\n",
      "56:\tlearn: 1.3397917\ttotal: 254ms\tremaining: 191ms\n",
      "57:\tlearn: 1.3390643\ttotal: 258ms\tremaining: 187ms\n",
      "58:\tlearn: 1.3374707\ttotal: 262ms\tremaining: 182ms\n",
      "59:\tlearn: 1.3364141\ttotal: 266ms\tremaining: 178ms\n",
      "60:\tlearn: 1.3348356\ttotal: 271ms\tremaining: 173ms\n",
      "61:\tlearn: 1.3335919\ttotal: 275ms\tremaining: 168ms\n",
      "62:\tlearn: 1.3319857\ttotal: 279ms\tremaining: 164ms\n",
      "63:\tlearn: 1.3305853\ttotal: 283ms\tremaining: 159ms\n",
      "64:\tlearn: 1.3293559\ttotal: 287ms\tremaining: 155ms\n",
      "65:\tlearn: 1.3282765\ttotal: 291ms\tremaining: 150ms\n",
      "66:\tlearn: 1.3269342\ttotal: 296ms\tremaining: 146ms\n",
      "67:\tlearn: 1.3260653\ttotal: 300ms\tremaining: 141ms\n",
      "68:\tlearn: 1.3251715\ttotal: 304ms\tremaining: 136ms\n",
      "69:\tlearn: 1.3243570\ttotal: 308ms\tremaining: 132ms\n",
      "70:\tlearn: 1.3231829\ttotal: 312ms\tremaining: 128ms\n",
      "71:\tlearn: 1.3219764\ttotal: 317ms\tremaining: 123ms\n",
      "72:\tlearn: 1.3210430\ttotal: 321ms\tremaining: 119ms\n",
      "73:\tlearn: 1.3193959\ttotal: 325ms\tremaining: 114ms\n",
      "74:\tlearn: 1.3180877\ttotal: 330ms\tremaining: 110ms\n",
      "75:\tlearn: 1.3178235\ttotal: 332ms\tremaining: 105ms\n",
      "76:\tlearn: 1.3170530\ttotal: 336ms\tremaining: 100ms\n",
      "77:\tlearn: 1.3163981\ttotal: 340ms\tremaining: 96ms\n",
      "78:\tlearn: 1.3155329\ttotal: 345ms\tremaining: 91.7ms\n",
      "79:\tlearn: 1.3144738\ttotal: 349ms\tremaining: 87.4ms\n",
      "80:\tlearn: 1.3134606\ttotal: 354ms\tremaining: 83ms\n",
      "81:\tlearn: 1.3124481\ttotal: 358ms\tremaining: 78.6ms\n",
      "82:\tlearn: 1.3112388\ttotal: 362ms\tremaining: 74.2ms\n",
      "83:\tlearn: 1.3104586\ttotal: 367ms\tremaining: 69.9ms\n",
      "84:\tlearn: 1.3092859\ttotal: 372ms\tremaining: 65.7ms\n",
      "85:\tlearn: 1.3085546\ttotal: 377ms\tremaining: 61.3ms\n",
      "86:\tlearn: 1.3070775\ttotal: 381ms\tremaining: 56.9ms\n",
      "87:\tlearn: 1.3055035\ttotal: 385ms\tremaining: 52.5ms\n",
      "88:\tlearn: 1.3040211\ttotal: 389ms\tremaining: 48.1ms\n",
      "89:\tlearn: 1.3026579\ttotal: 394ms\tremaining: 43.7ms\n",
      "90:\tlearn: 1.3011789\ttotal: 398ms\tremaining: 39.3ms\n",
      "91:\tlearn: 1.2995813\ttotal: 403ms\tremaining: 35ms\n",
      "92:\tlearn: 1.2982291\ttotal: 407ms\tremaining: 30.6ms\n",
      "93:\tlearn: 1.2971324\ttotal: 412ms\tremaining: 26.3ms\n",
      "94:\tlearn: 1.2963934\ttotal: 416ms\tremaining: 21.9ms\n",
      "95:\tlearn: 1.2953070\ttotal: 420ms\tremaining: 17.5ms\n",
      "96:\tlearn: 1.2939510\ttotal: 425ms\tremaining: 13.1ms\n",
      "97:\tlearn: 1.2925834\ttotal: 429ms\tremaining: 8.75ms\n",
      "98:\tlearn: 1.2913707\ttotal: 433ms\tremaining: 4.37ms\n",
      "99:\tlearn: 1.2904169\ttotal: 437ms\tremaining: 0us\n"
     ]
    },
    {
     "data": {
      "text/plain": [
       "{'Log Training MAE': 1.0354126223515716,\n",
       " 'Log Valid MAE': 1.1256000375218602,\n",
       " 'Log Training RMSLE': 0.21431482443183475,\n",
       " 'Log Valid RMSLE': 0.23319617188201217,\n",
       " 'Log Training R2 Score': 0.4763031567308741,\n",
       " 'Log Valid R2 Score': 0.3794329483068838,\n",
       " 'Actual Training MAE': 518.5186793623492,\n",
       " 'Actual Valid MAE': 544.0595562151219,\n",
       " 'Actual Training RMSLE': 1.2782999750523645,\n",
       " 'Actual Valid RMSLE': 1.3893895735883903,\n",
       " 'Actual Training R2 Score': 0.10586772139805312,\n",
       " 'Actual Valid R2 Score': 0.059455928719885365}"
      ]
     },
     "execution_count": 73,
     "metadata": {},
     "output_type": "execute_result"
    }
   ],
   "source": [
    "cbr_best = CatBoostRegressor(depth=6,\n",
    "                             iterations=100,\n",
    "                             learning_rate=0.1,\n",
    "                             random_state=42 \n",
    "                       )\n",
    "cbr_best.fit(X_train, y_train)\n",
    "show_scores(cbr_best)"
   ]
  },
  {
   "cell_type": "markdown",
   "metadata": {},
   "source": [
    "## XG Boost"
   ]
  },
  {
   "cell_type": "code",
   "execution_count": 30,
   "metadata": {},
   "outputs": [],
   "source": [
    "from xgboost import XGBRegressor as xgb\n"
   ]
  },
  {
   "cell_type": "code",
   "execution_count": 50,
   "metadata": {},
   "outputs": [
    {
     "data": {
      "text/plain": [
       "{'Log Training MAE': 1.0316772284746833,\n",
       " 'Log Valid MAE': 1.111651779663764,\n",
       " 'Log Training RMSLE': 0.21466485024069212,\n",
       " 'Log Valid RMSLE': 0.2331369409142915,\n",
       " 'Log Training R2 Score': 0.4723773240953747,\n",
       " 'Log Valid R2 Score': 0.38049557989422456,\n",
       " 'Actual Training MAE': 528.5568687166043,\n",
       " 'Actual Valid MAE': 542.6813705357715,\n",
       " 'Actual Training RMSLE': 1.283238298784027,\n",
       " 'Actual Valid RMSLE': 1.3882232732004127,\n",
       " 'Actual Training R2 Score': 0.0864384862247436,\n",
       " 'Actual Valid R2 Score': 0.0664991756882175}"
      ]
     },
     "execution_count": 50,
     "metadata": {},
     "output_type": "execute_result"
    }
   ],
   "source": [
    "xgb_tuned = xgb(seed=0,\n",
    " reg_lambda=0,\n",
    " reg_alpha=40,\n",
    " n_estimators=180,\n",
    " min_child_weight=4,\n",
    " max_depth=8,\n",
    " gamma=1,\n",
    " colsample_bytree=0.89999)\n",
    "xgb_tuned.fit(X_train, y_train)\n",
    "show_scores(xgb_tuned)"
   ]
  },
  {
   "cell_type": "code",
   "execution_count": 39,
   "metadata": {},
   "outputs": [
    {
     "name": "stdout",
     "output_type": "stream",
     "text": [
      "Fitting 3 folds for each of 25000 candidates, totalling 75000 fits\n"
     ]
    },
    {
     "name": "stderr",
     "output_type": "stream",
     "text": [
      "[Parallel(n_jobs=-1)]: Using backend LokyBackend with 8 concurrent workers.\n",
      "[Parallel(n_jobs=-1)]: Done  34 tasks      | elapsed:    4.9s\n",
      "[Parallel(n_jobs=-1)]: Done 184 tasks      | elapsed:   21.9s\n",
      "[Parallel(n_jobs=-1)]: Done 434 tasks      | elapsed:   56.1s\n",
      "[Parallel(n_jobs=-1)]: Done 784 tasks      | elapsed:  1.7min\n",
      "[Parallel(n_jobs=-1)]: Done 1234 tasks      | elapsed:  2.7min\n",
      "[Parallel(n_jobs=-1)]: Done 1784 tasks      | elapsed:  3.8min\n",
      "[Parallel(n_jobs=-1)]: Done 2434 tasks      | elapsed:  5.2min\n",
      "[Parallel(n_jobs=-1)]: Done 3184 tasks      | elapsed:  6.9min\n",
      "[Parallel(n_jobs=-1)]: Done 4034 tasks      | elapsed:  8.7min\n",
      "[Parallel(n_jobs=-1)]: Done 4984 tasks      | elapsed: 10.8min\n",
      "[Parallel(n_jobs=-1)]: Done 6034 tasks      | elapsed: 13.0min\n",
      "[Parallel(n_jobs=-1)]: Done 7184 tasks      | elapsed: 15.5min\n",
      "[Parallel(n_jobs=-1)]: Done 8434 tasks      | elapsed: 18.3min\n",
      "[Parallel(n_jobs=-1)]: Done 9784 tasks      | elapsed: 21.2min\n",
      "[Parallel(n_jobs=-1)]: Done 11234 tasks      | elapsed: 24.3min\n",
      "[Parallel(n_jobs=-1)]: Done 12784 tasks      | elapsed: 27.7min\n",
      "[Parallel(n_jobs=-1)]: Done 14434 tasks      | elapsed: 31.3min\n",
      "[Parallel(n_jobs=-1)]: Done 16184 tasks      | elapsed: 35.1min\n",
      "[Parallel(n_jobs=-1)]: Done 18034 tasks      | elapsed: 39.1min\n",
      "[Parallel(n_jobs=-1)]: Done 19984 tasks      | elapsed: 43.4min\n",
      "[Parallel(n_jobs=-1)]: Done 22034 tasks      | elapsed: 47.9min\n",
      "[Parallel(n_jobs=-1)]: Done 24184 tasks      | elapsed: 52.6min\n",
      "[Parallel(n_jobs=-1)]: Done 26434 tasks      | elapsed: 57.6min\n",
      "[Parallel(n_jobs=-1)]: Done 28784 tasks      | elapsed: 62.8min\n",
      "[Parallel(n_jobs=-1)]: Done 31234 tasks      | elapsed: 68.2min\n",
      "[Parallel(n_jobs=-1)]: Done 33784 tasks      | elapsed: 73.7min\n",
      "[Parallel(n_jobs=-1)]: Done 36434 tasks      | elapsed: 79.6min\n",
      "[Parallel(n_jobs=-1)]: Done 39184 tasks      | elapsed: 85.7min\n",
      "[Parallel(n_jobs=-1)]: Done 42034 tasks      | elapsed: 92.3min\n",
      "[Parallel(n_jobs=-1)]: Done 44984 tasks      | elapsed: 99.0min\n",
      "[Parallel(n_jobs=-1)]: Done 48034 tasks      | elapsed: 105.8min\n",
      "[Parallel(n_jobs=-1)]: Done 51184 tasks      | elapsed: 112.6min\n",
      "[Parallel(n_jobs=-1)]: Done 54434 tasks      | elapsed: 119.4min\n",
      "[Parallel(n_jobs=-1)]: Done 57784 tasks      | elapsed: 126.6min\n",
      "[Parallel(n_jobs=-1)]: Done 61234 tasks      | elapsed: 134.4min\n",
      "[Parallel(n_jobs=-1)]: Done 64784 tasks      | elapsed: 142.1min\n",
      "[Parallel(n_jobs=-1)]: Done 68434 tasks      | elapsed: 150.4min\n",
      "[Parallel(n_jobs=-1)]: Done 72184 tasks      | elapsed: 158.7min\n",
      "[Parallel(n_jobs=-1)]: Done 75000 out of 75000 | elapsed: 165.1min finished\n"
     ]
    },
    {
     "name": "stdout",
     "output_type": "stream",
     "text": [
      "Wall time: 2h 45min 7s\n"
     ]
    },
    {
     "data": {
      "text/plain": [
       "RandomizedSearchCV(cv=3,\n",
       "                   estimator=XGBRegressor(base_score=None, booster=None,\n",
       "                                          colsample_bylevel=None,\n",
       "                                          colsample_bynode=None,\n",
       "                                          colsample_bytree=None, gamma=None,\n",
       "                                          gpu_id=None, importance_type='gain',\n",
       "                                          interaction_constraints=None,\n",
       "                                          learning_rate=None,\n",
       "                                          max_delta_step=None, max_depth=None,\n",
       "                                          min_child_weight=None, missing=nan,\n",
       "                                          monotone_constraints=None,\n",
       "                                          n_estimators=100, n...\n",
       "                   n_iter=25000, n_jobs=-1,\n",
       "                   param_distributions={'colsample_bytree': array([0.5, 0.6, 0.7, 0.8, 0.9]),\n",
       "                                        'gamma': array([1, 2, 3, 4, 5, 6, 7, 8]),\n",
       "                                        'max_depth': array([ 3,  4,  5,  6,  7,  8,  9, 10, 11, 12, 13, 14, 15, 16, 17]),\n",
       "                                        'min_child_weight': array([0, 1, 2, 3, 4, 5, 6, 7, 8, 9]),\n",
       "                                        'n_estimators': [180],\n",
       "                                        'reg_alpha': array([ 40,  50,  60,  70,  80,  90, 100, 110, 120, 130, 140, 150, 160,\n",
       "       170]),\n",
       "                                        'reg_lambda': [0, 1], 'seed': [0]},\n",
       "                   verbose=True)"
      ]
     },
     "execution_count": 39,
     "metadata": {},
     "output_type": "execute_result"
    }
   ],
   "source": [
    "%%time\n",
    "\n",
    "# Different XGBoostRegressor hyperparameters\n",
    "xgboost_grid_CV={'max_depth': np.arange(3, 18, 1),\n",
    "        'gamma': np.arange(1,9),\n",
    "        'reg_alpha' :  np.arange(40,180,10),\n",
    "        'reg_lambda' : [0,1],\n",
    "        'colsample_bytree' : np.arange(0.5,1,0.1),\n",
    "        'min_child_weight' : np.arange(0, 10, 1),\n",
    "        'n_estimators': [180],\n",
    "        'seed': [0]\n",
    "    }\n",
    "\n",
    "# creating a model with the RandomizedSearchCV option.\n",
    "rs_xgboost_model = RandomizedSearchCV(xgb(random_state=42),\n",
    "                             param_distributions=xgboost_grid_CV,\n",
    "                             cv=3,\n",
    "                             n_iter=25000,\n",
    "                             n_jobs=-1,         \n",
    "                             verbose=True)\n",
    "\n",
    "# Fitting the model rs_model\n",
    "rs_xgboost_model.fit(X_train, y_train)"
   ]
  },
  {
   "cell_type": "code",
   "execution_count": 46,
   "metadata": {},
   "outputs": [
    {
     "data": {
      "text/plain": [
       "{'Log Training MAE': 1.0316772284746833,\n",
       " 'Log Valid MAE': 1.111651779663764,\n",
       " 'Log Training RMSLE': 0.21466485024069212,\n",
       " 'Log Valid RMSLE': 0.2331369409142915,\n",
       " 'Log Training R2 Score': 0.4723773240953747,\n",
       " 'Log Valid R2 Score': 0.38049557989422456,\n",
       " 'Actual Training MAE': 528.5568687166043,\n",
       " 'Actual Valid MAE': 542.6813705357715,\n",
       " 'Actual Training RMSLE': 1.283238298784027,\n",
       " 'Actual Valid RMSLE': 1.3882232732004127,\n",
       " 'Actual Training R2 Score': 0.0864384862247436,\n",
       " 'Actual Valid R2 Score': 0.0664991756882175}"
      ]
     },
     "execution_count": 46,
     "metadata": {},
     "output_type": "execute_result"
    }
   ],
   "source": [
    "show_scores(rs_xgboost_model)"
   ]
  },
  {
   "cell_type": "code",
   "execution_count": 41,
   "metadata": {},
   "outputs": [
    {
     "data": {
      "text/plain": [
       "{'seed': 0,\n",
       " 'reg_lambda': 0,\n",
       " 'reg_alpha': 40,\n",
       " 'n_estimators': 180,\n",
       " 'min_child_weight': 4,\n",
       " 'max_depth': 8,\n",
       " 'gamma': 1,\n",
       " 'colsample_bytree': 0.8999999999999999}"
      ]
     },
     "execution_count": 41,
     "metadata": {},
     "output_type": "execute_result"
    }
   ],
   "source": [
    "rs_xgboost_model.best_params_"
   ]
  },
  {
   "cell_type": "code",
   "execution_count": 117,
   "metadata": {},
   "outputs": [
    {
     "name": "stdout",
     "output_type": "stream",
     "text": [
      "Fitting 3 folds for each of 1680000 candidates, totalling 5040000 fits\n"
     ]
    },
    {
     "name": "stderr",
     "output_type": "stream",
     "text": [
      "[Parallel(n_jobs=-1)]: Using backend LokyBackend with 8 concurrent workers.\n",
      "[Parallel(n_jobs=-1)]: Done  34 tasks      | elapsed:    6.1s\n",
      "[Parallel(n_jobs=-1)]: Done 184 tasks      | elapsed:   18.1s\n",
      "[Parallel(n_jobs=-1)]: Done 434 tasks      | elapsed:   39.3s\n",
      "[Parallel(n_jobs=-1)]: Done 784 tasks      | elapsed:  1.2min\n",
      "[Parallel(n_jobs=-1)]: Done 1234 tasks      | elapsed:  1.8min\n",
      "[Parallel(n_jobs=-1)]: Done 1784 tasks      | elapsed:  2.6min\n",
      "[Parallel(n_jobs=-1)]: Done 2434 tasks      | elapsed:  3.3min\n",
      "[Parallel(n_jobs=-1)]: Done 3184 tasks      | elapsed:  4.0min\n",
      "[Parallel(n_jobs=-1)]: Done 4034 tasks      | elapsed:  4.9min\n",
      "[Parallel(n_jobs=-1)]: Done 4984 tasks      | elapsed:  5.9min\n",
      "[Parallel(n_jobs=-1)]: Done 6034 tasks      | elapsed:  6.9min\n",
      "[Parallel(n_jobs=-1)]: Done 7184 tasks      | elapsed:  8.0min\n",
      "[Parallel(n_jobs=-1)]: Done 8434 tasks      | elapsed:  9.3min\n",
      "[Parallel(n_jobs=-1)]: Done 9784 tasks      | elapsed: 10.7min\n",
      "[Parallel(n_jobs=-1)]: Done 11234 tasks      | elapsed: 12.3min\n",
      "[Parallel(n_jobs=-1)]: Done 12784 tasks      | elapsed: 13.9min\n",
      "[Parallel(n_jobs=-1)]: Done 14434 tasks      | elapsed: 15.7min\n",
      "[Parallel(n_jobs=-1)]: Done 16184 tasks      | elapsed: 17.6min\n",
      "[Parallel(n_jobs=-1)]: Done 18034 tasks      | elapsed: 19.7min\n",
      "[Parallel(n_jobs=-1)]: Done 19984 tasks      | elapsed: 21.9min\n",
      "[Parallel(n_jobs=-1)]: Done 22034 tasks      | elapsed: 24.2min\n",
      "[Parallel(n_jobs=-1)]: Done 24184 tasks      | elapsed: 26.7min\n",
      "[Parallel(n_jobs=-1)]: Done 26434 tasks      | elapsed: 29.2min\n",
      "[Parallel(n_jobs=-1)]: Done 28784 tasks      | elapsed: 32.0min\n",
      "[Parallel(n_jobs=-1)]: Done 31234 tasks      | elapsed: 34.9min\n",
      "[Parallel(n_jobs=-1)]: Done 33784 tasks      | elapsed: 37.8min\n",
      "[Parallel(n_jobs=-1)]: Done 36434 tasks      | elapsed: 41.0min\n",
      "[Parallel(n_jobs=-1)]: Done 39184 tasks      | elapsed: 44.2min\n",
      "[Parallel(n_jobs=-1)]: Done 42034 tasks      | elapsed: 47.6min\n",
      "[Parallel(n_jobs=-1)]: Done 44984 tasks      | elapsed: 51.2min\n",
      "[Parallel(n_jobs=-1)]: Done 48034 tasks      | elapsed: 54.9min\n",
      "[Parallel(n_jobs=-1)]: Done 51184 tasks      | elapsed: 58.6min\n",
      "[Parallel(n_jobs=-1)]: Done 54434 tasks      | elapsed: 62.5min\n",
      "[Parallel(n_jobs=-1)]: Done 57784 tasks      | elapsed: 66.6min\n",
      "[Parallel(n_jobs=-1)]: Done 61234 tasks      | elapsed: 70.7min\n",
      "[Parallel(n_jobs=-1)]: Done 64784 tasks      | elapsed: 75.0min\n",
      "[Parallel(n_jobs=-1)]: Done 68434 tasks      | elapsed: 79.4min\n",
      "[Parallel(n_jobs=-1)]: Done 72184 tasks      | elapsed: 84.0min\n",
      "[Parallel(n_jobs=-1)]: Done 76034 tasks      | elapsed: 88.7min\n",
      "[Parallel(n_jobs=-1)]: Done 79984 tasks      | elapsed: 93.8min\n",
      "[Parallel(n_jobs=-1)]: Done 84034 tasks      | elapsed: 98.7min\n",
      "[Parallel(n_jobs=-1)]: Done 88184 tasks      | elapsed: 103.8min\n",
      "[Parallel(n_jobs=-1)]: Done 92434 tasks      | elapsed: 108.9min\n"
     ]
    },
    {
     "ename": "KeyboardInterrupt",
     "evalue": "",
     "output_type": "error",
     "traceback": [
      "\u001b[1;31m---------------------------------------------------------------------------\u001b[0m",
      "\u001b[1;31mKeyboardInterrupt\u001b[0m                         Traceback (most recent call last)",
      "\u001b[1;32mA:\\ML\\env\\lib\\site-packages\\joblib\\parallel.py\u001b[0m in \u001b[0;36mretrieve\u001b[1;34m(self)\u001b[0m\n\u001b[0;32m    939\u001b[0m                 \u001b[1;32mif\u001b[0m \u001b[0mgetattr\u001b[0m\u001b[1;33m(\u001b[0m\u001b[0mself\u001b[0m\u001b[1;33m.\u001b[0m\u001b[0m_backend\u001b[0m\u001b[1;33m,\u001b[0m \u001b[1;34m'supports_timeout'\u001b[0m\u001b[1;33m,\u001b[0m \u001b[1;32mFalse\u001b[0m\u001b[1;33m)\u001b[0m\u001b[1;33m:\u001b[0m\u001b[1;33m\u001b[0m\u001b[1;33m\u001b[0m\u001b[0m\n\u001b[1;32m--> 940\u001b[1;33m                     \u001b[0mself\u001b[0m\u001b[1;33m.\u001b[0m\u001b[0m_output\u001b[0m\u001b[1;33m.\u001b[0m\u001b[0mextend\u001b[0m\u001b[1;33m(\u001b[0m\u001b[0mjob\u001b[0m\u001b[1;33m.\u001b[0m\u001b[0mget\u001b[0m\u001b[1;33m(\u001b[0m\u001b[0mtimeout\u001b[0m\u001b[1;33m=\u001b[0m\u001b[0mself\u001b[0m\u001b[1;33m.\u001b[0m\u001b[0mtimeout\u001b[0m\u001b[1;33m)\u001b[0m\u001b[1;33m)\u001b[0m\u001b[1;33m\u001b[0m\u001b[1;33m\u001b[0m\u001b[0m\n\u001b[0m\u001b[0;32m    941\u001b[0m                 \u001b[1;32melse\u001b[0m\u001b[1;33m:\u001b[0m\u001b[1;33m\u001b[0m\u001b[1;33m\u001b[0m\u001b[0m\n",
      "\u001b[1;32mA:\\ML\\env\\lib\\site-packages\\joblib\\_parallel_backends.py\u001b[0m in \u001b[0;36mwrap_future_result\u001b[1;34m(future, timeout)\u001b[0m\n\u001b[0;32m    541\u001b[0m         \u001b[1;32mtry\u001b[0m\u001b[1;33m:\u001b[0m\u001b[1;33m\u001b[0m\u001b[1;33m\u001b[0m\u001b[0m\n\u001b[1;32m--> 542\u001b[1;33m             \u001b[1;32mreturn\u001b[0m \u001b[0mfuture\u001b[0m\u001b[1;33m.\u001b[0m\u001b[0mresult\u001b[0m\u001b[1;33m(\u001b[0m\u001b[0mtimeout\u001b[0m\u001b[1;33m=\u001b[0m\u001b[0mtimeout\u001b[0m\u001b[1;33m)\u001b[0m\u001b[1;33m\u001b[0m\u001b[1;33m\u001b[0m\u001b[0m\n\u001b[0m\u001b[0;32m    543\u001b[0m         \u001b[1;32mexcept\u001b[0m \u001b[0mCfTimeoutError\u001b[0m \u001b[1;32mas\u001b[0m \u001b[0me\u001b[0m\u001b[1;33m:\u001b[0m\u001b[1;33m\u001b[0m\u001b[1;33m\u001b[0m\u001b[0m\n",
      "\u001b[1;32mA:\\ML\\env\\lib\\concurrent\\futures\\_base.py\u001b[0m in \u001b[0;36mresult\u001b[1;34m(self, timeout)\u001b[0m\n\u001b[0;32m    433\u001b[0m \u001b[1;33m\u001b[0m\u001b[0m\n\u001b[1;32m--> 434\u001b[1;33m             \u001b[0mself\u001b[0m\u001b[1;33m.\u001b[0m\u001b[0m_condition\u001b[0m\u001b[1;33m.\u001b[0m\u001b[0mwait\u001b[0m\u001b[1;33m(\u001b[0m\u001b[0mtimeout\u001b[0m\u001b[1;33m)\u001b[0m\u001b[1;33m\u001b[0m\u001b[1;33m\u001b[0m\u001b[0m\n\u001b[0m\u001b[0;32m    435\u001b[0m \u001b[1;33m\u001b[0m\u001b[0m\n",
      "\u001b[1;32mA:\\ML\\env\\lib\\threading.py\u001b[0m in \u001b[0;36mwait\u001b[1;34m(self, timeout)\u001b[0m\n\u001b[0;32m    301\u001b[0m             \u001b[1;32mif\u001b[0m \u001b[0mtimeout\u001b[0m \u001b[1;32mis\u001b[0m \u001b[1;32mNone\u001b[0m\u001b[1;33m:\u001b[0m\u001b[1;33m\u001b[0m\u001b[1;33m\u001b[0m\u001b[0m\n\u001b[1;32m--> 302\u001b[1;33m                 \u001b[0mwaiter\u001b[0m\u001b[1;33m.\u001b[0m\u001b[0macquire\u001b[0m\u001b[1;33m(\u001b[0m\u001b[1;33m)\u001b[0m\u001b[1;33m\u001b[0m\u001b[1;33m\u001b[0m\u001b[0m\n\u001b[0m\u001b[0;32m    303\u001b[0m                 \u001b[0mgotit\u001b[0m \u001b[1;33m=\u001b[0m \u001b[1;32mTrue\u001b[0m\u001b[1;33m\u001b[0m\u001b[1;33m\u001b[0m\u001b[0m\n",
      "\u001b[1;31mKeyboardInterrupt\u001b[0m: ",
      "\nDuring handling of the above exception, another exception occurred:\n",
      "\u001b[1;31mKeyboardInterrupt\u001b[0m                         Traceback (most recent call last)",
      "\u001b[1;32m<timed exec>\u001b[0m in \u001b[0;36m<module>\u001b[1;34m\u001b[0m\n",
      "\u001b[1;32mA:\\ML\\env\\lib\\site-packages\\sklearn\\utils\\validation.py\u001b[0m in \u001b[0;36minner_f\u001b[1;34m(*args, **kwargs)\u001b[0m\n\u001b[0;32m     70\u001b[0m                           FutureWarning)\n\u001b[0;32m     71\u001b[0m         \u001b[0mkwargs\u001b[0m\u001b[1;33m.\u001b[0m\u001b[0mupdate\u001b[0m\u001b[1;33m(\u001b[0m\u001b[1;33m{\u001b[0m\u001b[0mk\u001b[0m\u001b[1;33m:\u001b[0m \u001b[0marg\u001b[0m \u001b[1;32mfor\u001b[0m \u001b[0mk\u001b[0m\u001b[1;33m,\u001b[0m \u001b[0marg\u001b[0m \u001b[1;32min\u001b[0m \u001b[0mzip\u001b[0m\u001b[1;33m(\u001b[0m\u001b[0msig\u001b[0m\u001b[1;33m.\u001b[0m\u001b[0mparameters\u001b[0m\u001b[1;33m,\u001b[0m \u001b[0margs\u001b[0m\u001b[1;33m)\u001b[0m\u001b[1;33m}\u001b[0m\u001b[1;33m)\u001b[0m\u001b[1;33m\u001b[0m\u001b[1;33m\u001b[0m\u001b[0m\n\u001b[1;32m---> 72\u001b[1;33m         \u001b[1;32mreturn\u001b[0m \u001b[0mf\u001b[0m\u001b[1;33m(\u001b[0m\u001b[1;33m**\u001b[0m\u001b[0mkwargs\u001b[0m\u001b[1;33m)\u001b[0m\u001b[1;33m\u001b[0m\u001b[1;33m\u001b[0m\u001b[0m\n\u001b[0m\u001b[0;32m     73\u001b[0m     \u001b[1;32mreturn\u001b[0m \u001b[0minner_f\u001b[0m\u001b[1;33m\u001b[0m\u001b[1;33m\u001b[0m\u001b[0m\n\u001b[0;32m     74\u001b[0m \u001b[1;33m\u001b[0m\u001b[0m\n",
      "\u001b[1;32mA:\\ML\\env\\lib\\site-packages\\sklearn\\model_selection\\_search.py\u001b[0m in \u001b[0;36mfit\u001b[1;34m(self, X, y, groups, **fit_params)\u001b[0m\n\u001b[0;32m    734\u001b[0m                 \u001b[1;32mreturn\u001b[0m \u001b[0mresults\u001b[0m\u001b[1;33m\u001b[0m\u001b[1;33m\u001b[0m\u001b[0m\n\u001b[0;32m    735\u001b[0m \u001b[1;33m\u001b[0m\u001b[0m\n\u001b[1;32m--> 736\u001b[1;33m             \u001b[0mself\u001b[0m\u001b[1;33m.\u001b[0m\u001b[0m_run_search\u001b[0m\u001b[1;33m(\u001b[0m\u001b[0mevaluate_candidates\u001b[0m\u001b[1;33m)\u001b[0m\u001b[1;33m\u001b[0m\u001b[1;33m\u001b[0m\u001b[0m\n\u001b[0m\u001b[0;32m    737\u001b[0m \u001b[1;33m\u001b[0m\u001b[0m\n\u001b[0;32m    738\u001b[0m         \u001b[1;31m# For multi-metric evaluation, store the best_index_, best_params_ and\u001b[0m\u001b[1;33m\u001b[0m\u001b[1;33m\u001b[0m\u001b[1;33m\u001b[0m\u001b[0m\n",
      "\u001b[1;32mA:\\ML\\env\\lib\\site-packages\\sklearn\\model_selection\\_search.py\u001b[0m in \u001b[0;36m_run_search\u001b[1;34m(self, evaluate_candidates)\u001b[0m\n\u001b[0;32m   1186\u001b[0m     \u001b[1;32mdef\u001b[0m \u001b[0m_run_search\u001b[0m\u001b[1;33m(\u001b[0m\u001b[0mself\u001b[0m\u001b[1;33m,\u001b[0m \u001b[0mevaluate_candidates\u001b[0m\u001b[1;33m)\u001b[0m\u001b[1;33m:\u001b[0m\u001b[1;33m\u001b[0m\u001b[1;33m\u001b[0m\u001b[0m\n\u001b[0;32m   1187\u001b[0m         \u001b[1;34m\"\"\"Search all candidates in param_grid\"\"\"\u001b[0m\u001b[1;33m\u001b[0m\u001b[1;33m\u001b[0m\u001b[0m\n\u001b[1;32m-> 1188\u001b[1;33m         \u001b[0mevaluate_candidates\u001b[0m\u001b[1;33m(\u001b[0m\u001b[0mParameterGrid\u001b[0m\u001b[1;33m(\u001b[0m\u001b[0mself\u001b[0m\u001b[1;33m.\u001b[0m\u001b[0mparam_grid\u001b[0m\u001b[1;33m)\u001b[0m\u001b[1;33m)\u001b[0m\u001b[1;33m\u001b[0m\u001b[1;33m\u001b[0m\u001b[0m\n\u001b[0m\u001b[0;32m   1189\u001b[0m \u001b[1;33m\u001b[0m\u001b[0m\n\u001b[0;32m   1190\u001b[0m \u001b[1;33m\u001b[0m\u001b[0m\n",
      "\u001b[1;32mA:\\ML\\env\\lib\\site-packages\\sklearn\\model_selection\\_search.py\u001b[0m in \u001b[0;36mevaluate_candidates\u001b[1;34m(candidate_params)\u001b[0m\n\u001b[0;32m    706\u001b[0m                               n_splits, n_candidates, n_candidates * n_splits))\n\u001b[0;32m    707\u001b[0m \u001b[1;33m\u001b[0m\u001b[0m\n\u001b[1;32m--> 708\u001b[1;33m                 out = parallel(delayed(_fit_and_score)(clone(base_estimator),\n\u001b[0m\u001b[0;32m    709\u001b[0m                                                        \u001b[0mX\u001b[0m\u001b[1;33m,\u001b[0m \u001b[0my\u001b[0m\u001b[1;33m,\u001b[0m\u001b[1;33m\u001b[0m\u001b[1;33m\u001b[0m\u001b[0m\n\u001b[0;32m    710\u001b[0m                                                        \u001b[0mtrain\u001b[0m\u001b[1;33m=\u001b[0m\u001b[0mtrain\u001b[0m\u001b[1;33m,\u001b[0m \u001b[0mtest\u001b[0m\u001b[1;33m=\u001b[0m\u001b[0mtest\u001b[0m\u001b[1;33m,\u001b[0m\u001b[1;33m\u001b[0m\u001b[1;33m\u001b[0m\u001b[0m\n",
      "\u001b[1;32mA:\\ML\\env\\lib\\site-packages\\joblib\\parallel.py\u001b[0m in \u001b[0;36m__call__\u001b[1;34m(self, iterable)\u001b[0m\n\u001b[0;32m   1059\u001b[0m \u001b[1;33m\u001b[0m\u001b[0m\n\u001b[0;32m   1060\u001b[0m             \u001b[1;32mwith\u001b[0m \u001b[0mself\u001b[0m\u001b[1;33m.\u001b[0m\u001b[0m_backend\u001b[0m\u001b[1;33m.\u001b[0m\u001b[0mretrieval_context\u001b[0m\u001b[1;33m(\u001b[0m\u001b[1;33m)\u001b[0m\u001b[1;33m:\u001b[0m\u001b[1;33m\u001b[0m\u001b[1;33m\u001b[0m\u001b[0m\n\u001b[1;32m-> 1061\u001b[1;33m                 \u001b[0mself\u001b[0m\u001b[1;33m.\u001b[0m\u001b[0mretrieve\u001b[0m\u001b[1;33m(\u001b[0m\u001b[1;33m)\u001b[0m\u001b[1;33m\u001b[0m\u001b[1;33m\u001b[0m\u001b[0m\n\u001b[0m\u001b[0;32m   1062\u001b[0m             \u001b[1;31m# Make sure that we get a last message telling us we are done\u001b[0m\u001b[1;33m\u001b[0m\u001b[1;33m\u001b[0m\u001b[1;33m\u001b[0m\u001b[0m\n\u001b[0;32m   1063\u001b[0m             \u001b[0melapsed_time\u001b[0m \u001b[1;33m=\u001b[0m \u001b[0mtime\u001b[0m\u001b[1;33m.\u001b[0m\u001b[0mtime\u001b[0m\u001b[1;33m(\u001b[0m\u001b[1;33m)\u001b[0m \u001b[1;33m-\u001b[0m \u001b[0mself\u001b[0m\u001b[1;33m.\u001b[0m\u001b[0m_start_time\u001b[0m\u001b[1;33m\u001b[0m\u001b[1;33m\u001b[0m\u001b[0m\n",
      "\u001b[1;32mA:\\ML\\env\\lib\\site-packages\\joblib\\parallel.py\u001b[0m in \u001b[0;36mretrieve\u001b[1;34m(self)\u001b[0m\n\u001b[0;32m    960\u001b[0m                     \u001b[1;31m# scheduling.\u001b[0m\u001b[1;33m\u001b[0m\u001b[1;33m\u001b[0m\u001b[1;33m\u001b[0m\u001b[0m\n\u001b[0;32m    961\u001b[0m                     \u001b[0mensure_ready\u001b[0m \u001b[1;33m=\u001b[0m \u001b[0mself\u001b[0m\u001b[1;33m.\u001b[0m\u001b[0m_managed_backend\u001b[0m\u001b[1;33m\u001b[0m\u001b[1;33m\u001b[0m\u001b[0m\n\u001b[1;32m--> 962\u001b[1;33m                     \u001b[0mbackend\u001b[0m\u001b[1;33m.\u001b[0m\u001b[0mabort_everything\u001b[0m\u001b[1;33m(\u001b[0m\u001b[0mensure_ready\u001b[0m\u001b[1;33m=\u001b[0m\u001b[0mensure_ready\u001b[0m\u001b[1;33m)\u001b[0m\u001b[1;33m\u001b[0m\u001b[1;33m\u001b[0m\u001b[0m\n\u001b[0m\u001b[0;32m    963\u001b[0m                 \u001b[1;32mraise\u001b[0m\u001b[1;33m\u001b[0m\u001b[1;33m\u001b[0m\u001b[0m\n\u001b[0;32m    964\u001b[0m \u001b[1;33m\u001b[0m\u001b[0m\n",
      "\u001b[1;32mA:\\ML\\env\\lib\\site-packages\\joblib\\_parallel_backends.py\u001b[0m in \u001b[0;36mabort_everything\u001b[1;34m(self, ensure_ready)\u001b[0m\n\u001b[0;32m    559\u001b[0m         \"\"\"Shutdown the workers and restart a new one with the same parameters\n\u001b[0;32m    560\u001b[0m         \"\"\"\n\u001b[1;32m--> 561\u001b[1;33m         \u001b[0mself\u001b[0m\u001b[1;33m.\u001b[0m\u001b[0m_workers\u001b[0m\u001b[1;33m.\u001b[0m\u001b[0mterminate\u001b[0m\u001b[1;33m(\u001b[0m\u001b[0mkill_workers\u001b[0m\u001b[1;33m=\u001b[0m\u001b[1;32mTrue\u001b[0m\u001b[1;33m)\u001b[0m\u001b[1;33m\u001b[0m\u001b[1;33m\u001b[0m\u001b[0m\n\u001b[0m\u001b[0;32m    562\u001b[0m         \u001b[0mself\u001b[0m\u001b[1;33m.\u001b[0m\u001b[0m_workers\u001b[0m \u001b[1;33m=\u001b[0m \u001b[1;32mNone\u001b[0m\u001b[1;33m\u001b[0m\u001b[1;33m\u001b[0m\u001b[0m\n\u001b[0;32m    563\u001b[0m \u001b[1;33m\u001b[0m\u001b[0m\n",
      "\u001b[1;32mA:\\ML\\env\\lib\\site-packages\\joblib\\executor.py\u001b[0m in \u001b[0;36mterminate\u001b[1;34m(self, kill_workers)\u001b[0m\n\u001b[0;32m     72\u001b[0m \u001b[1;33m\u001b[0m\u001b[0m\n\u001b[0;32m     73\u001b[0m     \u001b[1;32mdef\u001b[0m \u001b[0mterminate\u001b[0m\u001b[1;33m(\u001b[0m\u001b[0mself\u001b[0m\u001b[1;33m,\u001b[0m \u001b[0mkill_workers\u001b[0m\u001b[1;33m=\u001b[0m\u001b[1;32mFalse\u001b[0m\u001b[1;33m)\u001b[0m\u001b[1;33m:\u001b[0m\u001b[1;33m\u001b[0m\u001b[1;33m\u001b[0m\u001b[0m\n\u001b[1;32m---> 74\u001b[1;33m         \u001b[0mself\u001b[0m\u001b[1;33m.\u001b[0m\u001b[0mshutdown\u001b[0m\u001b[1;33m(\u001b[0m\u001b[0mkill_workers\u001b[0m\u001b[1;33m=\u001b[0m\u001b[0mkill_workers\u001b[0m\u001b[1;33m)\u001b[0m\u001b[1;33m\u001b[0m\u001b[1;33m\u001b[0m\u001b[0m\n\u001b[0m\u001b[0;32m     75\u001b[0m         \u001b[1;32mif\u001b[0m \u001b[0mkill_workers\u001b[0m\u001b[1;33m:\u001b[0m\u001b[1;33m\u001b[0m\u001b[1;33m\u001b[0m\u001b[0m\n\u001b[0;32m     76\u001b[0m             \u001b[1;31m# When workers are killed in such a brutal manner, they cannot\u001b[0m\u001b[1;33m\u001b[0m\u001b[1;33m\u001b[0m\u001b[1;33m\u001b[0m\u001b[0m\n",
      "\u001b[1;32mA:\\ML\\env\\lib\\site-packages\\joblib\\externals\\loky\\process_executor.py\u001b[0m in \u001b[0;36mshutdown\u001b[1;34m(self, wait, kill_workers)\u001b[0m\n\u001b[0;32m   1169\u001b[0m \u001b[1;33m\u001b[0m\u001b[0m\n\u001b[0;32m   1170\u001b[0m         \u001b[1;32mif\u001b[0m \u001b[0mexecutor_manager_thread\u001b[0m \u001b[1;32mis\u001b[0m \u001b[1;32mnot\u001b[0m \u001b[1;32mNone\u001b[0m \u001b[1;32mand\u001b[0m \u001b[0mwait\u001b[0m\u001b[1;33m:\u001b[0m\u001b[1;33m\u001b[0m\u001b[1;33m\u001b[0m\u001b[0m\n\u001b[1;32m-> 1171\u001b[1;33m             \u001b[0mexecutor_manager_thread\u001b[0m\u001b[1;33m.\u001b[0m\u001b[0mjoin\u001b[0m\u001b[1;33m(\u001b[0m\u001b[1;33m)\u001b[0m\u001b[1;33m\u001b[0m\u001b[1;33m\u001b[0m\u001b[0m\n\u001b[0m\u001b[0;32m   1172\u001b[0m \u001b[1;33m\u001b[0m\u001b[0m\n\u001b[0;32m   1173\u001b[0m         \u001b[1;31m# To reduce the risk of opening too many files, remove references to\u001b[0m\u001b[1;33m\u001b[0m\u001b[1;33m\u001b[0m\u001b[1;33m\u001b[0m\u001b[0m\n",
      "\u001b[1;32mA:\\ML\\env\\lib\\threading.py\u001b[0m in \u001b[0;36mjoin\u001b[1;34m(self, timeout)\u001b[0m\n\u001b[0;32m   1009\u001b[0m \u001b[1;33m\u001b[0m\u001b[0m\n\u001b[0;32m   1010\u001b[0m         \u001b[1;32mif\u001b[0m \u001b[0mtimeout\u001b[0m \u001b[1;32mis\u001b[0m \u001b[1;32mNone\u001b[0m\u001b[1;33m:\u001b[0m\u001b[1;33m\u001b[0m\u001b[1;33m\u001b[0m\u001b[0m\n\u001b[1;32m-> 1011\u001b[1;33m             \u001b[0mself\u001b[0m\u001b[1;33m.\u001b[0m\u001b[0m_wait_for_tstate_lock\u001b[0m\u001b[1;33m(\u001b[0m\u001b[1;33m)\u001b[0m\u001b[1;33m\u001b[0m\u001b[1;33m\u001b[0m\u001b[0m\n\u001b[0m\u001b[0;32m   1012\u001b[0m         \u001b[1;32melse\u001b[0m\u001b[1;33m:\u001b[0m\u001b[1;33m\u001b[0m\u001b[1;33m\u001b[0m\u001b[0m\n\u001b[0;32m   1013\u001b[0m             \u001b[1;31m# the behavior of a negative timeout isn't documented, but\u001b[0m\u001b[1;33m\u001b[0m\u001b[1;33m\u001b[0m\u001b[1;33m\u001b[0m\u001b[0m\n",
      "\u001b[1;32mA:\\ML\\env\\lib\\threading.py\u001b[0m in \u001b[0;36m_wait_for_tstate_lock\u001b[1;34m(self, block, timeout)\u001b[0m\n\u001b[0;32m   1025\u001b[0m         \u001b[1;32mif\u001b[0m \u001b[0mlock\u001b[0m \u001b[1;32mis\u001b[0m \u001b[1;32mNone\u001b[0m\u001b[1;33m:\u001b[0m  \u001b[1;31m# already determined that the C code is done\u001b[0m\u001b[1;33m\u001b[0m\u001b[1;33m\u001b[0m\u001b[0m\n\u001b[0;32m   1026\u001b[0m             \u001b[1;32massert\u001b[0m \u001b[0mself\u001b[0m\u001b[1;33m.\u001b[0m\u001b[0m_is_stopped\u001b[0m\u001b[1;33m\u001b[0m\u001b[1;33m\u001b[0m\u001b[0m\n\u001b[1;32m-> 1027\u001b[1;33m         \u001b[1;32melif\u001b[0m \u001b[0mlock\u001b[0m\u001b[1;33m.\u001b[0m\u001b[0macquire\u001b[0m\u001b[1;33m(\u001b[0m\u001b[0mblock\u001b[0m\u001b[1;33m,\u001b[0m \u001b[0mtimeout\u001b[0m\u001b[1;33m)\u001b[0m\u001b[1;33m:\u001b[0m\u001b[1;33m\u001b[0m\u001b[1;33m\u001b[0m\u001b[0m\n\u001b[0m\u001b[0;32m   1028\u001b[0m             \u001b[0mlock\u001b[0m\u001b[1;33m.\u001b[0m\u001b[0mrelease\u001b[0m\u001b[1;33m(\u001b[0m\u001b[1;33m)\u001b[0m\u001b[1;33m\u001b[0m\u001b[1;33m\u001b[0m\u001b[0m\n\u001b[0;32m   1029\u001b[0m             \u001b[0mself\u001b[0m\u001b[1;33m.\u001b[0m\u001b[0m_stop\u001b[0m\u001b[1;33m(\u001b[0m\u001b[1;33m)\u001b[0m\u001b[1;33m\u001b[0m\u001b[1;33m\u001b[0m\u001b[0m\n",
      "\u001b[1;31mKeyboardInterrupt\u001b[0m: "
     ]
    }
   ],
   "source": [
    "%%time\n",
    "\n",
    "# Different CatBoostRegressor hyperparameters\n",
    "xgboost_grid_CV={'max_depth': np.arange(2, 20, 2),\n",
    "        'gamma': np.arange(1, 9),\n",
    "        'reg_alpha' :  np.arange(40,180,10),\n",
    "        'reg_lambda' : [0, 1],\n",
    "        'colsample_bytree' : np.arange(0.5, 1, 0.1),\n",
    "        'min_child_weight' : np.arange(0, 10, 1),\n",
    "        'n_estimators': [180],\n",
    "        'seed': [0]\n",
    "    }\n",
    "\n",
    "\n",
    "xgboost_gs_model = GridSearchCV(xgb(random_state=42),\n",
    "                       param_grid=xgboost_grid_CV,\n",
    "                       cv=3,\n",
    "                       n_jobs=-1,          \n",
    "                       verbose=True\n",
    "                        )\n",
    "\n",
    "xgboost_gs_model.fit(X_train, y_train)"
   ]
  },
  {
   "cell_type": "code",
   "execution_count": 118,
   "metadata": {},
   "outputs": [
    {
     "name": "stderr",
     "output_type": "stream",
     "text": [
      "\n",
      "KeyboardInterrupt\n",
      "\n"
     ]
    }
   ],
   "source": [
    "show_scores(xgboost_gs_model)"
   ]
  },
  {
   "cell_type": "code",
   "execution_count": null,
   "metadata": {},
   "outputs": [],
   "source": [
    "xgboost_gs_model.best_params_"
   ]
  },
  {
   "cell_type": "markdown",
   "metadata": {},
   "source": [
    "### Using Lasso.."
   ]
  },
  {
   "cell_type": "code",
   "execution_count": 66,
   "metadata": {},
   "outputs": [],
   "source": [
    "from sklearn.linear_model import Lasso as lso"
   ]
  },
  {
   "cell_type": "code",
   "execution_count": 67,
   "metadata": {},
   "outputs": [
    {
     "data": {
      "text/plain": [
       "{'Log Training MAE': 1.291695282172425,\n",
       " 'Log Valid MAE': 1.3035562648390078,\n",
       " 'Log Training RMSLE': 0.25603771381448953,\n",
       " 'Log Valid RMSLE': 0.2581739706703696,\n",
       " 'Log Training R2 Score': 0.2729159408469056,\n",
       " 'Log Valid R2 Score': 0.25811657936800203,\n",
       " 'Actual Training MAE': 576.4227817533439,\n",
       " 'Actual Valid MAE': 575.706118887623,\n",
       " 'Actual Training RMSLE': 1.5050363081153253,\n",
       " 'Actual Valid RMSLE': 1.5179902325655916,\n",
       " 'Actual Training R2 Score': -0.03216061359524347,\n",
       " 'Actual Valid R2 Score': -0.0346745349182338}"
      ]
     },
     "execution_count": 67,
     "metadata": {},
     "output_type": "execute_result"
    }
   ],
   "source": [
    "lasso_model = lso(alpha=0.1)\n",
    "lasso_model.fit(X_train, y_train)\n",
    "show_scores(lasso_model)"
   ]
  },
  {
   "cell_type": "code",
   "execution_count": null,
   "metadata": {},
   "outputs": [],
   "source": []
  },
  {
   "cell_type": "code",
   "execution_count": null,
   "metadata": {},
   "outputs": [],
   "source": []
  },
  {
   "cell_type": "code",
   "execution_count": null,
   "metadata": {},
   "outputs": [],
   "source": []
  },
  {
   "cell_type": "code",
   "execution_count": null,
   "metadata": {},
   "outputs": [],
   "source": []
  },
  {
   "cell_type": "code",
   "execution_count": null,
   "metadata": {},
   "outputs": [],
   "source": []
  },
  {
   "cell_type": "markdown",
   "metadata": {},
   "source": [
    "## Converting the Test Data into desired format and predicting on it"
   ]
  },
  {
   "cell_type": "code",
   "execution_count": 51,
   "metadata": {},
   "outputs": [
    {
     "data": {
      "text/html": [
       "<div>\n",
       "<style scoped>\n",
       "    .dataframe tbody tr th:only-of-type {\n",
       "        vertical-align: middle;\n",
       "    }\n",
       "\n",
       "    .dataframe tbody tr th {\n",
       "        vertical-align: top;\n",
       "    }\n",
       "\n",
       "    .dataframe thead th {\n",
       "        text-align: right;\n",
       "    }\n",
       "</style>\n",
       "<table border=\"1\" class=\"dataframe\">\n",
       "  <thead>\n",
       "    <tr style=\"text-align: right;\">\n",
       "      <th></th>\n",
       "      <th>session_id</th>\n",
       "      <th>session_number</th>\n",
       "      <th>client_agent</th>\n",
       "      <th>device_details</th>\n",
       "      <th>date</th>\n",
       "      <th>purchased</th>\n",
       "      <th>added_in_cart</th>\n",
       "      <th>checked_out</th>\n",
       "    </tr>\n",
       "  </thead>\n",
       "  <tbody>\n",
       "    <tr>\n",
       "      <th>0</th>\n",
       "      <td>0bf72b05b2cf70dc5e28c3c09f9c4f97</td>\n",
       "      <td>99</td>\n",
       "      <td>Mozilla/5.0 (Windows NT 6.1; WOW64; Trident/7....</td>\n",
       "      <td>Desktop - IE</td>\n",
       "      <td>2020-01-07</td>\n",
       "      <td>1</td>\n",
       "      <td>0</td>\n",
       "      <td>0</td>\n",
       "    </tr>\n",
       "    <tr>\n",
       "      <th>1</th>\n",
       "      <td>6bc696d99954e4f1367e845465186aef</td>\n",
       "      <td>935</td>\n",
       "      <td>Product/160393 Android/4.3 Device/samsung_GT-I...</td>\n",
       "      <td>Android Phone - Android</td>\n",
       "      <td>2020-02-13</td>\n",
       "      <td>0</td>\n",
       "      <td>0</td>\n",
       "      <td>0</td>\n",
       "    </tr>\n",
       "    <tr>\n",
       "      <th>2</th>\n",
       "      <td>3d8611a5ea0f621d205b67f09f663a89</td>\n",
       "      <td>902</td>\n",
       "      <td>Product/4.2.2 iPhone/7.1.2</td>\n",
       "      <td>iPhone - iOS</td>\n",
       "      <td>2019-10-14</td>\n",
       "      <td>1</td>\n",
       "      <td>0</td>\n",
       "      <td>0</td>\n",
       "    </tr>\n",
       "    <tr>\n",
       "      <th>3</th>\n",
       "      <td>a0351545c032fd0da36289410c6c3354</td>\n",
       "      <td>3223</td>\n",
       "      <td>Mozilla/5.0 (compatible; MSIE 9.0; Windows NT ...</td>\n",
       "      <td>Desktop - IE</td>\n",
       "      <td>2020-01-26</td>\n",
       "      <td>0</td>\n",
       "      <td>0</td>\n",
       "      <td>0</td>\n",
       "    </tr>\n",
       "    <tr>\n",
       "      <th>4</th>\n",
       "      <td>dd8999772b0ab27225fb05e5df2f1da6</td>\n",
       "      <td>231</td>\n",
       "      <td>Mozilla/5.0 (Windows NT 6.3; WOW64) AppleWebKi...</td>\n",
       "      <td>Desktop - Chrome</td>\n",
       "      <td>2020-01-29</td>\n",
       "      <td>0</td>\n",
       "      <td>0</td>\n",
       "      <td>0</td>\n",
       "    </tr>\n",
       "  </tbody>\n",
       "</table>\n",
       "</div>"
      ],
      "text/plain": [
       "                         session_id  session_number  \\\n",
       "0  0bf72b05b2cf70dc5e28c3c09f9c4f97              99   \n",
       "1  6bc696d99954e4f1367e845465186aef             935   \n",
       "2  3d8611a5ea0f621d205b67f09f663a89             902   \n",
       "3  a0351545c032fd0da36289410c6c3354            3223   \n",
       "4  dd8999772b0ab27225fb05e5df2f1da6             231   \n",
       "\n",
       "                                        client_agent           device_details  \\\n",
       "0  Mozilla/5.0 (Windows NT 6.1; WOW64; Trident/7....             Desktop - IE   \n",
       "1  Product/160393 Android/4.3 Device/samsung_GT-I...  Android Phone - Android   \n",
       "2                         Product/4.2.2 iPhone/7.1.2             iPhone - iOS   \n",
       "3  Mozilla/5.0 (compatible; MSIE 9.0; Windows NT ...             Desktop - IE   \n",
       "4  Mozilla/5.0 (Windows NT 6.3; WOW64) AppleWebKi...         Desktop - Chrome   \n",
       "\n",
       "        date  purchased  added_in_cart  checked_out  \n",
       "0 2020-01-07          1              0            0  \n",
       "1 2020-02-13          0              0            0  \n",
       "2 2019-10-14          1              0            0  \n",
       "3 2020-01-26          0              0            0  \n",
       "4 2020-01-29          0              0            0  "
      ]
     },
     "execution_count": 51,
     "metadata": {},
     "output_type": "execute_result"
    }
   ],
   "source": [
    "#converted the date to datetime instead of only being object\n",
    "df_test = pd.read_csv(\"Data\\Test.csv\",\n",
    "                parse_dates=[\"date\"])\n",
    "df_test.head()"
   ]
  },
  {
   "cell_type": "code",
   "execution_count": 52,
   "metadata": {},
   "outputs": [
    {
     "name": "stderr",
     "output_type": "stream",
     "text": [
      "<ipython-input-14-d1471cc7cbcb>:10: FutureWarning: Series.dt.weekofyear and Series.dt.week have been deprecated.  Please use Series.dt.isocalendar().week instead.\n",
      "  df[\"Week_Of_Year\"] = df.date.dt.weekofyear\n"
     ]
    },
    {
     "data": {
      "text/html": [
       "<div>\n",
       "<style scoped>\n",
       "    .dataframe tbody tr th:only-of-type {\n",
       "        vertical-align: middle;\n",
       "    }\n",
       "\n",
       "    .dataframe tbody tr th {\n",
       "        vertical-align: top;\n",
       "    }\n",
       "\n",
       "    .dataframe thead th {\n",
       "        text-align: right;\n",
       "    }\n",
       "</style>\n",
       "<table border=\"1\" class=\"dataframe\">\n",
       "  <thead>\n",
       "    <tr style=\"text-align: right;\">\n",
       "      <th></th>\n",
       "      <th>session_id</th>\n",
       "      <th>session_number</th>\n",
       "      <th>client_agent</th>\n",
       "      <th>device_details</th>\n",
       "      <th>purchased</th>\n",
       "      <th>added_in_cart</th>\n",
       "      <th>checked_out</th>\n",
       "      <th>Year</th>\n",
       "      <th>Month</th>\n",
       "      <th>Date</th>\n",
       "      <th>Day_of_Year</th>\n",
       "      <th>Week_Of_Year</th>\n",
       "      <th>Quarter</th>\n",
       "      <th>Day_Of_Week</th>\n",
       "    </tr>\n",
       "  </thead>\n",
       "  <tbody>\n",
       "    <tr>\n",
       "      <th>0</th>\n",
       "      <td>0bf72b05b2cf70dc5e28c3c09f9c4f97</td>\n",
       "      <td>99</td>\n",
       "      <td>Mozilla/5.0 (Windows NT 6.1; WOW64; Trident/7....</td>\n",
       "      <td>Desktop - IE</td>\n",
       "      <td>1</td>\n",
       "      <td>0</td>\n",
       "      <td>0</td>\n",
       "      <td>2020</td>\n",
       "      <td>1</td>\n",
       "      <td>7</td>\n",
       "      <td>7</td>\n",
       "      <td>2</td>\n",
       "      <td>1</td>\n",
       "      <td>1</td>\n",
       "    </tr>\n",
       "    <tr>\n",
       "      <th>1</th>\n",
       "      <td>6bc696d99954e4f1367e845465186aef</td>\n",
       "      <td>935</td>\n",
       "      <td>Product/160393 Android/4.3 Device/samsung_GT-I...</td>\n",
       "      <td>Android Phone - Android</td>\n",
       "      <td>0</td>\n",
       "      <td>0</td>\n",
       "      <td>0</td>\n",
       "      <td>2020</td>\n",
       "      <td>2</td>\n",
       "      <td>13</td>\n",
       "      <td>44</td>\n",
       "      <td>7</td>\n",
       "      <td>1</td>\n",
       "      <td>3</td>\n",
       "    </tr>\n",
       "    <tr>\n",
       "      <th>2</th>\n",
       "      <td>3d8611a5ea0f621d205b67f09f663a89</td>\n",
       "      <td>902</td>\n",
       "      <td>Product/4.2.2 iPhone/7.1.2</td>\n",
       "      <td>iPhone - iOS</td>\n",
       "      <td>1</td>\n",
       "      <td>0</td>\n",
       "      <td>0</td>\n",
       "      <td>2019</td>\n",
       "      <td>10</td>\n",
       "      <td>14</td>\n",
       "      <td>287</td>\n",
       "      <td>42</td>\n",
       "      <td>4</td>\n",
       "      <td>0</td>\n",
       "    </tr>\n",
       "    <tr>\n",
       "      <th>3</th>\n",
       "      <td>a0351545c032fd0da36289410c6c3354</td>\n",
       "      <td>3223</td>\n",
       "      <td>Mozilla/5.0 (compatible; MSIE 9.0; Windows NT ...</td>\n",
       "      <td>Desktop - IE</td>\n",
       "      <td>0</td>\n",
       "      <td>0</td>\n",
       "      <td>0</td>\n",
       "      <td>2020</td>\n",
       "      <td>1</td>\n",
       "      <td>26</td>\n",
       "      <td>26</td>\n",
       "      <td>4</td>\n",
       "      <td>1</td>\n",
       "      <td>6</td>\n",
       "    </tr>\n",
       "    <tr>\n",
       "      <th>4</th>\n",
       "      <td>dd8999772b0ab27225fb05e5df2f1da6</td>\n",
       "      <td>231</td>\n",
       "      <td>Mozilla/5.0 (Windows NT 6.3; WOW64) AppleWebKi...</td>\n",
       "      <td>Desktop - Chrome</td>\n",
       "      <td>0</td>\n",
       "      <td>0</td>\n",
       "      <td>0</td>\n",
       "      <td>2020</td>\n",
       "      <td>1</td>\n",
       "      <td>29</td>\n",
       "      <td>29</td>\n",
       "      <td>5</td>\n",
       "      <td>1</td>\n",
       "      <td>2</td>\n",
       "    </tr>\n",
       "  </tbody>\n",
       "</table>\n",
       "</div>"
      ],
      "text/plain": [
       "                         session_id  session_number  \\\n",
       "0  0bf72b05b2cf70dc5e28c3c09f9c4f97              99   \n",
       "1  6bc696d99954e4f1367e845465186aef             935   \n",
       "2  3d8611a5ea0f621d205b67f09f663a89             902   \n",
       "3  a0351545c032fd0da36289410c6c3354            3223   \n",
       "4  dd8999772b0ab27225fb05e5df2f1da6             231   \n",
       "\n",
       "                                        client_agent           device_details  \\\n",
       "0  Mozilla/5.0 (Windows NT 6.1; WOW64; Trident/7....             Desktop - IE   \n",
       "1  Product/160393 Android/4.3 Device/samsung_GT-I...  Android Phone - Android   \n",
       "2                         Product/4.2.2 iPhone/7.1.2             iPhone - iOS   \n",
       "3  Mozilla/5.0 (compatible; MSIE 9.0; Windows NT ...             Desktop - IE   \n",
       "4  Mozilla/5.0 (Windows NT 6.3; WOW64) AppleWebKi...         Desktop - Chrome   \n",
       "\n",
       "   purchased  added_in_cart  checked_out  Year  Month  Date  Day_of_Year  \\\n",
       "0          1              0            0  2020      1     7            7   \n",
       "1          0              0            0  2020      2    13           44   \n",
       "2          1              0            0  2019     10    14          287   \n",
       "3          0              0            0  2020      1    26           26   \n",
       "4          0              0            0  2020      1    29           29   \n",
       "\n",
       "   Week_Of_Year  Quarter  Day_Of_Week  \n",
       "0             2        1            1  \n",
       "1             7        1            3  \n",
       "2            42        4            0  \n",
       "3             4        1            6  \n",
       "4             5        1            2  "
      ]
     },
     "execution_count": 52,
     "metadata": {},
     "output_type": "execute_result"
    }
   ],
   "source": [
    "df_new = convert_Date_Obj(df_test)\n",
    "df_new.head()"
   ]
  },
  {
   "cell_type": "code",
   "execution_count": 53,
   "metadata": {},
   "outputs": [
    {
     "data": {
      "text/html": [
       "<div>\n",
       "<style scoped>\n",
       "    .dataframe tbody tr th:only-of-type {\n",
       "        vertical-align: middle;\n",
       "    }\n",
       "\n",
       "    .dataframe tbody tr th {\n",
       "        vertical-align: top;\n",
       "    }\n",
       "\n",
       "    .dataframe thead th {\n",
       "        text-align: right;\n",
       "    }\n",
       "</style>\n",
       "<table border=\"1\" class=\"dataframe\">\n",
       "  <thead>\n",
       "    <tr style=\"text-align: right;\">\n",
       "      <th></th>\n",
       "      <th>session_number</th>\n",
       "      <th>client_agent</th>\n",
       "      <th>device_details</th>\n",
       "      <th>purchased</th>\n",
       "      <th>added_in_cart</th>\n",
       "      <th>checked_out</th>\n",
       "      <th>Year</th>\n",
       "      <th>Month</th>\n",
       "      <th>Date</th>\n",
       "      <th>Day_of_Year</th>\n",
       "      <th>Week_Of_Year</th>\n",
       "      <th>Quarter</th>\n",
       "      <th>Day_Of_Week</th>\n",
       "    </tr>\n",
       "  </thead>\n",
       "  <tbody>\n",
       "    <tr>\n",
       "      <th>0</th>\n",
       "      <td>99</td>\n",
       "      <td>Mozilla/5.0 (Windows NT 6.1; WOW64; Trident/7....</td>\n",
       "      <td>Desktop - IE</td>\n",
       "      <td>1</td>\n",
       "      <td>0</td>\n",
       "      <td>0</td>\n",
       "      <td>2020</td>\n",
       "      <td>1</td>\n",
       "      <td>7</td>\n",
       "      <td>7</td>\n",
       "      <td>2</td>\n",
       "      <td>1</td>\n",
       "      <td>1</td>\n",
       "    </tr>\n",
       "    <tr>\n",
       "      <th>1</th>\n",
       "      <td>935</td>\n",
       "      <td>Product/160393 Android/4.3 Device/samsung_GT-I...</td>\n",
       "      <td>Android Phone - Android</td>\n",
       "      <td>0</td>\n",
       "      <td>0</td>\n",
       "      <td>0</td>\n",
       "      <td>2020</td>\n",
       "      <td>2</td>\n",
       "      <td>13</td>\n",
       "      <td>44</td>\n",
       "      <td>7</td>\n",
       "      <td>1</td>\n",
       "      <td>3</td>\n",
       "    </tr>\n",
       "    <tr>\n",
       "      <th>2</th>\n",
       "      <td>902</td>\n",
       "      <td>Product/4.2.2 iPhone/7.1.2</td>\n",
       "      <td>iPhone - iOS</td>\n",
       "      <td>1</td>\n",
       "      <td>0</td>\n",
       "      <td>0</td>\n",
       "      <td>2019</td>\n",
       "      <td>10</td>\n",
       "      <td>14</td>\n",
       "      <td>287</td>\n",
       "      <td>42</td>\n",
       "      <td>4</td>\n",
       "      <td>0</td>\n",
       "    </tr>\n",
       "    <tr>\n",
       "      <th>3</th>\n",
       "      <td>3223</td>\n",
       "      <td>Mozilla/5.0 (compatible; MSIE 9.0; Windows NT ...</td>\n",
       "      <td>Desktop - IE</td>\n",
       "      <td>0</td>\n",
       "      <td>0</td>\n",
       "      <td>0</td>\n",
       "      <td>2020</td>\n",
       "      <td>1</td>\n",
       "      <td>26</td>\n",
       "      <td>26</td>\n",
       "      <td>4</td>\n",
       "      <td>1</td>\n",
       "      <td>6</td>\n",
       "    </tr>\n",
       "    <tr>\n",
       "      <th>4</th>\n",
       "      <td>231</td>\n",
       "      <td>Mozilla/5.0 (Windows NT 6.3; WOW64) AppleWebKi...</td>\n",
       "      <td>Desktop - Chrome</td>\n",
       "      <td>0</td>\n",
       "      <td>0</td>\n",
       "      <td>0</td>\n",
       "      <td>2020</td>\n",
       "      <td>1</td>\n",
       "      <td>29</td>\n",
       "      <td>29</td>\n",
       "      <td>5</td>\n",
       "      <td>1</td>\n",
       "      <td>2</td>\n",
       "    </tr>\n",
       "  </tbody>\n",
       "</table>\n",
       "</div>"
      ],
      "text/plain": [
       "   session_number                                       client_agent  \\\n",
       "0              99  Mozilla/5.0 (Windows NT 6.1; WOW64; Trident/7....   \n",
       "1             935  Product/160393 Android/4.3 Device/samsung_GT-I...   \n",
       "2             902                         Product/4.2.2 iPhone/7.1.2   \n",
       "3            3223  Mozilla/5.0 (compatible; MSIE 9.0; Windows NT ...   \n",
       "4             231  Mozilla/5.0 (Windows NT 6.3; WOW64) AppleWebKi...   \n",
       "\n",
       "            device_details  purchased  added_in_cart  checked_out  Year  \\\n",
       "0             Desktop - IE          1              0            0  2020   \n",
       "1  Android Phone - Android          0              0            0  2020   \n",
       "2             iPhone - iOS          1              0            0  2019   \n",
       "3             Desktop - IE          0              0            0  2020   \n",
       "4         Desktop - Chrome          0              0            0  2020   \n",
       "\n",
       "   Month  Date  Day_of_Year  Week_Of_Year  Quarter  Day_Of_Week  \n",
       "0      1     7            7             2        1            1  \n",
       "1      2    13           44             7        1            3  \n",
       "2     10    14          287            42        4            0  \n",
       "3      1    26           26             4        1            6  \n",
       "4      1    29           29             5        1            2  "
      ]
     },
     "execution_count": 53,
     "metadata": {},
     "output_type": "execute_result"
    }
   ],
   "source": [
    "df_new.drop(\"session_id\", axis=1, inplace=True)\n",
    "df_new.head()"
   ]
  },
  {
   "cell_type": "code",
   "execution_count": 54,
   "metadata": {},
   "outputs": [
    {
     "data": {
      "text/plain": [
       "session_number     0\n",
       "client_agent      59\n",
       "device_details     0\n",
       "purchased          0\n",
       "added_in_cart      0\n",
       "checked_out        0\n",
       "Year               0\n",
       "Month              0\n",
       "Date               0\n",
       "Day_of_Year        0\n",
       "Week_Of_Year       0\n",
       "Quarter            0\n",
       "Day_Of_Week        0\n",
       "dtype: int64"
      ]
     },
     "execution_count": 54,
     "metadata": {},
     "output_type": "execute_result"
    }
   ],
   "source": [
    "df_new.isna().sum()"
   ]
  },
  {
   "cell_type": "code",
   "execution_count": 55,
   "metadata": {},
   "outputs": [
    {
     "name": "stdout",
     "output_type": "stream",
     "text": [
      "<class 'pandas.core.frame.DataFrame'>\n",
      "RangeIndex: 2327 entries, 0 to 2326\n",
      "Data columns (total 13 columns):\n",
      " #   Column          Non-Null Count  Dtype   \n",
      "---  ------          --------------  -----   \n",
      " 0   session_number  2327 non-null   int64   \n",
      " 1   client_agent    2268 non-null   category\n",
      " 2   device_details  2327 non-null   category\n",
      " 3   purchased       2327 non-null   int64   \n",
      " 4   added_in_cart   2327 non-null   int64   \n",
      " 5   checked_out     2327 non-null   int64   \n",
      " 6   Year            2327 non-null   int64   \n",
      " 7   Month           2327 non-null   int64   \n",
      " 8   Date            2327 non-null   int64   \n",
      " 9   Day_of_Year     2327 non-null   int64   \n",
      " 10  Week_Of_Year    2327 non-null   int64   \n",
      " 11  Quarter         2327 non-null   int64   \n",
      " 12  Day_Of_Week     2327 non-null   int64   \n",
      "dtypes: category(2), int64(11)\n",
      "memory usage: 231.5 KB\n"
     ]
    }
   ],
   "source": [
    "# Converting String to categoricals\n",
    "df_cat = convert_string_to_categorical(df_new)\n",
    "df_cat.info()"
   ]
  },
  {
   "cell_type": "code",
   "execution_count": 56,
   "metadata": {},
   "outputs": [
    {
     "name": "stdout",
     "output_type": "stream",
     "text": [
      "<class 'pandas.core.frame.DataFrame'>\n",
      "RangeIndex: 2327 entries, 0 to 2326\n",
      "Data columns (total 13 columns):\n",
      " #   Column          Non-Null Count  Dtype\n",
      "---  ------          --------------  -----\n",
      " 0   session_number  2327 non-null   int64\n",
      " 1   client_agent    2327 non-null   int16\n",
      " 2   device_details  2327 non-null   int8 \n",
      " 3   purchased       2327 non-null   int64\n",
      " 4   added_in_cart   2327 non-null   int64\n",
      " 5   checked_out     2327 non-null   int64\n",
      " 6   Year            2327 non-null   int64\n",
      " 7   Month           2327 non-null   int64\n",
      " 8   Date            2327 non-null   int64\n",
      " 9   Day_of_Year     2327 non-null   int64\n",
      " 10  Week_Of_Year    2327 non-null   int64\n",
      " 11  Quarter         2327 non-null   int64\n",
      " 12  Day_Of_Week     2327 non-null   int64\n",
      "dtypes: int16(1), int64(11), int8(1)\n",
      "memory usage: 206.9 KB\n"
     ]
    }
   ],
   "source": [
    "df_final = fill_numbers(df_cat)\n",
    "df_final.info()"
   ]
  },
  {
   "cell_type": "code",
   "execution_count": 57,
   "metadata": {},
   "outputs": [
    {
     "data": {
      "text/plain": [
       "session_number    0\n",
       "client_agent      0\n",
       "device_details    0\n",
       "purchased         0\n",
       "added_in_cart     0\n",
       "checked_out       0\n",
       "Year              0\n",
       "Month             0\n",
       "Date              0\n",
       "Day_of_Year       0\n",
       "Week_Of_Year      0\n",
       "Quarter           0\n",
       "Day_Of_Week       0\n",
       "dtype: int64"
      ]
     },
     "execution_count": 57,
     "metadata": {},
     "output_type": "execute_result"
    }
   ],
   "source": [
    "df_final.isna().sum()"
   ]
  },
  {
   "cell_type": "markdown",
   "metadata": {},
   "source": [
    "### Predicticing with CatBoost...."
   ]
  },
  {
   "cell_type": "code",
   "execution_count": 80,
   "metadata": {},
   "outputs": [],
   "source": [
    "cbr_best_pred = cbr_best.predict(df_final)"
   ]
  },
  {
   "cell_type": "code",
   "execution_count": 81,
   "metadata": {},
   "outputs": [
    {
     "data": {
      "text/plain": [
       "array([6.39236883, 4.39193778, 5.62943997, 4.80813069, 4.61466133,\n",
       "       6.36672041, 5.62096827, 4.18613475, 4.77690609, 6.53387175])"
      ]
     },
     "execution_count": 81,
     "metadata": {},
     "output_type": "execute_result"
    }
   ],
   "source": [
    "cbr_best_pred[:10]"
   ]
  },
  {
   "cell_type": "code",
   "execution_count": 82,
   "metadata": {},
   "outputs": [
    {
     "data": {
      "text/html": [
       "<div>\n",
       "<style scoped>\n",
       "    .dataframe tbody tr th:only-of-type {\n",
       "        vertical-align: middle;\n",
       "    }\n",
       "\n",
       "    .dataframe tbody tr th {\n",
       "        vertical-align: top;\n",
       "    }\n",
       "\n",
       "    .dataframe thead th {\n",
       "        text-align: right;\n",
       "    }\n",
       "</style>\n",
       "<table border=\"1\" class=\"dataframe\">\n",
       "  <thead>\n",
       "    <tr style=\"text-align: right;\">\n",
       "      <th></th>\n",
       "      <th>time_spent</th>\n",
       "    </tr>\n",
       "  </thead>\n",
       "  <tbody>\n",
       "    <tr>\n",
       "      <th>0</th>\n",
       "      <td>597.269733</td>\n",
       "    </tr>\n",
       "    <tr>\n",
       "      <th>1</th>\n",
       "      <td>80.796834</td>\n",
       "    </tr>\n",
       "    <tr>\n",
       "      <th>2</th>\n",
       "      <td>278.506104</td>\n",
       "    </tr>\n",
       "    <tr>\n",
       "      <th>3</th>\n",
       "      <td>122.502408</td>\n",
       "    </tr>\n",
       "    <tr>\n",
       "      <th>4</th>\n",
       "      <td>100.953633</td>\n",
       "    </tr>\n",
       "  </tbody>\n",
       "</table>\n",
       "</div>"
      ],
      "text/plain": [
       "   time_spent\n",
       "0  597.269733\n",
       "1   80.796834\n",
       "2  278.506104\n",
       "3  122.502408\n",
       "4  100.953633"
      ]
     },
     "execution_count": 82,
     "metadata": {},
     "output_type": "execute_result"
    }
   ],
   "source": [
    "cbr_pred = pd.DataFrame()\n",
    "cbr_pred[\"time_spent\"] = cbr_best_pred\n",
    "cbr_pred[\"time_spent\"] = np.exp(cbr_pred[\"time_spent\"])\n",
    "cbr_pred.head()"
   ]
  },
  {
   "cell_type": "code",
   "execution_count": 83,
   "metadata": {},
   "outputs": [],
   "source": [
    "cbr_pred.to_csv(\"Predictions\\predictions_cat_boost_final.csv\",\n",
    "                index=False)"
   ]
  },
  {
   "cell_type": "code",
   "execution_count": 47,
   "metadata": {},
   "outputs": [],
   "source": [
    "import seaborn as sns\n",
    "\n",
    "# Helper function for plotting feature importance\n",
    "def plot_features(columns, importances, n=20):\n",
    "    df = (pd.DataFrame({\"features\": columns,\n",
    "                        \"feature_importance\": importances})\n",
    "          .sort_values(\"feature_importance\", ascending=False)\n",
    "          .reset_index(drop=True))\n",
    "    \n",
    "    sns.barplot(x=\"feature_importance\",\n",
    "                y=\"features\",\n",
    "                data=df[:n],\n",
    "                orient=\"h\")"
   ]
  },
  {
   "cell_type": "code",
   "execution_count": 84,
   "metadata": {},
   "outputs": [
    {
     "data": {
      "image/png": "[encoded data removed]",
      "text/plain": [
       "<Figure size 432x288 with 1 Axes>"
      ]
     },
     "metadata": {
      "needs_background": "light"
     },
     "output_type": "display_data"
    }
   ],
   "source": [
    "plot_features(X_train.columns, cbr_best.get_feature_importance())"
   ]
  },
  {
   "cell_type": "code",
   "execution_count": 104,
   "metadata": {},
   "outputs": [
    {
     "data": {
      "text/html": [
       "<div>\n",
       "<style scoped>\n",
       "    .dataframe tbody tr th:only-of-type {\n",
       "        vertical-align: middle;\n",
       "    }\n",
       "\n",
       "    .dataframe tbody tr th {\n",
       "        vertical-align: top;\n",
       "    }\n",
       "\n",
       "    .dataframe thead th {\n",
       "        text-align: right;\n",
       "    }\n",
       "</style>\n",
       "<table border=\"1\" class=\"dataframe\">\n",
       "  <thead>\n",
       "    <tr style=\"text-align: right;\">\n",
       "      <th></th>\n",
       "      <th>session_id</th>\n",
       "      <th>session_number</th>\n",
       "      <th>client_agent</th>\n",
       "      <th>device_details</th>\n",
       "      <th>purchased</th>\n",
       "      <th>added_in_cart</th>\n",
       "      <th>checked_out</th>\n",
       "      <th>Year</th>\n",
       "      <th>Month</th>\n",
       "      <th>Date</th>\n",
       "      <th>Day_of_Year</th>\n",
       "      <th>Week_Of_Year</th>\n",
       "      <th>Quarter</th>\n",
       "      <th>Day_Of_Week</th>\n",
       "    </tr>\n",
       "  </thead>\n",
       "  <tbody>\n",
       "    <tr>\n",
       "      <th>935</th>\n",
       "      <td>2960</td>\n",
       "      <td>341</td>\n",
       "      <td>570</td>\n",
       "      <td>17</td>\n",
       "      <td>0</td>\n",
       "      <td>1</td>\n",
       "      <td>0</td>\n",
       "      <td>2019</td>\n",
       "      <td>8</td>\n",
       "      <td>1</td>\n",
       "      <td>213</td>\n",
       "      <td>31</td>\n",
       "      <td>3</td>\n",
       "      <td>3</td>\n",
       "    </tr>\n",
       "    <tr>\n",
       "      <th>508</th>\n",
       "      <td>5164</td>\n",
       "      <td>11</td>\n",
       "      <td>345</td>\n",
       "      <td>6</td>\n",
       "      <td>0</td>\n",
       "      <td>0</td>\n",
       "      <td>0</td>\n",
       "      <td>2019</td>\n",
       "      <td>10</td>\n",
       "      <td>13</td>\n",
       "      <td>286</td>\n",
       "      <td>41</td>\n",
       "      <td>4</td>\n",
       "      <td>6</td>\n",
       "    </tr>\n",
       "    <tr>\n",
       "      <th>994</th>\n",
       "      <td>586</td>\n",
       "      <td>847</td>\n",
       "      <td>589</td>\n",
       "      <td>17</td>\n",
       "      <td>0</td>\n",
       "      <td>0</td>\n",
       "      <td>0</td>\n",
       "      <td>2019</td>\n",
       "      <td>8</td>\n",
       "      <td>15</td>\n",
       "      <td>227</td>\n",
       "      <td>33</td>\n",
       "      <td>3</td>\n",
       "      <td>3</td>\n",
       "    </tr>\n",
       "    <tr>\n",
       "      <th>2554</th>\n",
       "      <td>485</td>\n",
       "      <td>440</td>\n",
       "      <td>357</td>\n",
       "      <td>9</td>\n",
       "      <td>0</td>\n",
       "      <td>1</td>\n",
       "      <td>0</td>\n",
       "      <td>2019</td>\n",
       "      <td>7</td>\n",
       "      <td>15</td>\n",
       "      <td>196</td>\n",
       "      <td>29</td>\n",
       "      <td>3</td>\n",
       "      <td>0</td>\n",
       "    </tr>\n",
       "    <tr>\n",
       "      <th>3279</th>\n",
       "      <td>3491</td>\n",
       "      <td>1320</td>\n",
       "      <td>432</td>\n",
       "      <td>16</td>\n",
       "      <td>0</td>\n",
       "      <td>0</td>\n",
       "      <td>0</td>\n",
       "      <td>2020</td>\n",
       "      <td>2</td>\n",
       "      <td>5</td>\n",
       "      <td>36</td>\n",
       "      <td>6</td>\n",
       "      <td>1</td>\n",
       "      <td>2</td>\n",
       "    </tr>\n",
       "    <tr>\n",
       "      <th>...</th>\n",
       "      <td>...</td>\n",
       "      <td>...</td>\n",
       "      <td>...</td>\n",
       "      <td>...</td>\n",
       "      <td>...</td>\n",
       "      <td>...</td>\n",
       "      <td>...</td>\n",
       "      <td>...</td>\n",
       "      <td>...</td>\n",
       "      <td>...</td>\n",
       "      <td>...</td>\n",
       "      <td>...</td>\n",
       "      <td>...</td>\n",
       "      <td>...</td>\n",
       "    </tr>\n",
       "    <tr>\n",
       "      <th>2246</th>\n",
       "      <td>931</td>\n",
       "      <td>110</td>\n",
       "      <td>469</td>\n",
       "      <td>1</td>\n",
       "      <td>0</td>\n",
       "      <td>0</td>\n",
       "      <td>0</td>\n",
       "      <td>2019</td>\n",
       "      <td>9</td>\n",
       "      <td>27</td>\n",
       "      <td>270</td>\n",
       "      <td>39</td>\n",
       "      <td>3</td>\n",
       "      <td>4</td>\n",
       "    </tr>\n",
       "    <tr>\n",
       "      <th>4590</th>\n",
       "      <td>1754</td>\n",
       "      <td>209</td>\n",
       "      <td>189</td>\n",
       "      <td>7</td>\n",
       "      <td>0</td>\n",
       "      <td>0</td>\n",
       "      <td>0</td>\n",
       "      <td>2019</td>\n",
       "      <td>8</td>\n",
       "      <td>13</td>\n",
       "      <td>225</td>\n",
       "      <td>33</td>\n",
       "      <td>3</td>\n",
       "      <td>1</td>\n",
       "    </tr>\n",
       "    <tr>\n",
       "      <th>3669</th>\n",
       "      <td>3649</td>\n",
       "      <td>792</td>\n",
       "      <td>523</td>\n",
       "      <td>1</td>\n",
       "      <td>0</td>\n",
       "      <td>0</td>\n",
       "      <td>0</td>\n",
       "      <td>2020</td>\n",
       "      <td>1</td>\n",
       "      <td>24</td>\n",
       "      <td>24</td>\n",
       "      <td>4</td>\n",
       "      <td>1</td>\n",
       "      <td>4</td>\n",
       "    </tr>\n",
       "    <tr>\n",
       "      <th>1397</th>\n",
       "      <td>274</td>\n",
       "      <td>1518</td>\n",
       "      <td>105</td>\n",
       "      <td>10</td>\n",
       "      <td>1</td>\n",
       "      <td>0</td>\n",
       "      <td>0</td>\n",
       "      <td>2020</td>\n",
       "      <td>2</td>\n",
       "      <td>11</td>\n",
       "      <td>42</td>\n",
       "      <td>7</td>\n",
       "      <td>1</td>\n",
       "      <td>1</td>\n",
       "    </tr>\n",
       "    <tr>\n",
       "      <th>5291</th>\n",
       "      <td>5049</td>\n",
       "      <td>1232</td>\n",
       "      <td>113</td>\n",
       "      <td>10</td>\n",
       "      <td>1</td>\n",
       "      <td>0</td>\n",
       "      <td>0</td>\n",
       "      <td>2020</td>\n",
       "      <td>2</td>\n",
       "      <td>2</td>\n",
       "      <td>33</td>\n",
       "      <td>5</td>\n",
       "      <td>1</td>\n",
       "      <td>6</td>\n",
       "    </tr>\n",
       "  </tbody>\n",
       "</table>\n",
       "<p>4343 rows × 14 columns</p>\n",
       "</div>"
      ],
      "text/plain": [
       "      session_id  session_number  client_agent  device_details  purchased  \\\n",
       "935         2960             341           570              17          0   \n",
       "508         5164              11           345               6          0   \n",
       "994          586             847           589              17          0   \n",
       "2554         485             440           357               9          0   \n",
       "3279        3491            1320           432              16          0   \n",
       "...          ...             ...           ...             ...        ...   \n",
       "2246         931             110           469               1          0   \n",
       "4590        1754             209           189               7          0   \n",
       "3669        3649             792           523               1          0   \n",
       "1397         274            1518           105              10          1   \n",
       "5291        5049            1232           113              10          1   \n",
       "\n",
       "      added_in_cart  checked_out  Year  Month  Date  Day_of_Year  \\\n",
       "935               1            0  2019      8     1          213   \n",
       "508               0            0  2019     10    13          286   \n",
       "994               0            0  2019      8    15          227   \n",
       "2554              1            0  2019      7    15          196   \n",
       "3279              0            0  2020      2     5           36   \n",
       "...             ...          ...   ...    ...   ...          ...   \n",
       "2246              0            0  2019      9    27          270   \n",
       "4590              0            0  2019      8    13          225   \n",
       "3669              0            0  2020      1    24           24   \n",
       "1397              0            0  2020      2    11           42   \n",
       "5291              0            0  2020      2     2           33   \n",
       "\n",
       "      Week_Of_Year  Quarter  Day_Of_Week  \n",
       "935             31        3            3  \n",
       "508             41        4            6  \n",
       "994             33        3            3  \n",
       "2554            29        3            0  \n",
       "3279             6        1            2  \n",
       "...            ...      ...          ...  \n",
       "2246            39        3            4  \n",
       "4590            33        3            1  \n",
       "3669             4        1            4  \n",
       "1397             7        1            1  \n",
       "5291             5        1            6  \n",
       "\n",
       "[4343 rows x 14 columns]"
      ]
     },
     "execution_count": 104,
     "metadata": {},
     "output_type": "execute_result"
    }
   ],
   "source": [
    "X_train"
   ]
  },
  {
   "cell_type": "markdown",
   "metadata": {},
   "source": [
    "### Predicting with SVR(Support Vector Regression) RBF Kernel\n",
    "\n",
    "It is of no use as it is only predicting the mean"
   ]
  },
  {
   "cell_type": "code",
   "execution_count": 45,
   "metadata": {},
   "outputs": [
    {
     "data": {
      "text/plain": [
       "array([4.91232195, 4.91232195, 4.91232195, 4.91232195, 4.91232195,\n",
       "       4.91232195, 4.91232195, 4.91232195, 4.91232195, 4.91232195])"
      ]
     },
     "execution_count": 45,
     "metadata": {},
     "output_type": "execute_result"
    }
   ],
   "source": [
    "rbf_svc_predict = rbf_svc.predict(df_final)\n",
    "rbf_svc_predict[:10]"
   ]
  },
  {
   "cell_type": "markdown",
   "metadata": {},
   "source": [
    "### Predicticing with XgBoost...."
   ]
  },
  {
   "cell_type": "code",
   "execution_count": 59,
   "metadata": {},
   "outputs": [
    {
     "data": {
      "text/plain": [
       "array([6.493592 , 4.2300715, 5.7180085, 4.4896064, 4.6700377, 6.603825 ,\n",
       "       5.99233  , 3.9403822, 4.796266 , 6.750694 ], dtype=float32)"
      ]
     },
     "execution_count": 59,
     "metadata": {},
     "output_type": "execute_result"
    }
   ],
   "source": [
    "xgb_tuned_pred = xgb_tuned.predict(df_final)\n",
    "xgb_tuned_pred[:10]"
   ]
  },
  {
   "cell_type": "code",
   "execution_count": 60,
   "metadata": {},
   "outputs": [
    {
     "data": {
      "text/html": [
       "<div>\n",
       "<style scoped>\n",
       "    .dataframe tbody tr th:only-of-type {\n",
       "        vertical-align: middle;\n",
       "    }\n",
       "\n",
       "    .dataframe tbody tr th {\n",
       "        vertical-align: top;\n",
       "    }\n",
       "\n",
       "    .dataframe thead th {\n",
       "        text-align: right;\n",
       "    }\n",
       "</style>\n",
       "<table border=\"1\" class=\"dataframe\">\n",
       "  <thead>\n",
       "    <tr style=\"text-align: right;\">\n",
       "      <th></th>\n",
       "      <th>time_spent</th>\n",
       "    </tr>\n",
       "  </thead>\n",
       "  <tbody>\n",
       "    <tr>\n",
       "      <th>0</th>\n",
       "      <td>660.892883</td>\n",
       "    </tr>\n",
       "    <tr>\n",
       "      <th>1</th>\n",
       "      <td>68.722145</td>\n",
       "    </tr>\n",
       "    <tr>\n",
       "      <th>2</th>\n",
       "      <td>304.298309</td>\n",
       "    </tr>\n",
       "    <tr>\n",
       "      <th>3</th>\n",
       "      <td>89.086372</td>\n",
       "    </tr>\n",
       "    <tr>\n",
       "      <th>4</th>\n",
       "      <td>106.701767</td>\n",
       "    </tr>\n",
       "  </tbody>\n",
       "</table>\n",
       "</div>"
      ],
      "text/plain": [
       "   time_spent\n",
       "0  660.892883\n",
       "1   68.722145\n",
       "2  304.298309\n",
       "3   89.086372\n",
       "4  106.701767"
      ]
     },
     "execution_count": 60,
     "metadata": {},
     "output_type": "execute_result"
    }
   ],
   "source": [
    "xgb_pred = pd.DataFrame()\n",
    "xgb_pred[\"time_spent\"] = xgb_tuned_pred\n",
    "xgb_pred[\"time_spent\"] = np.exp(xgb_pred[\"time_spent\"])\n",
    "xgb_pred.head()"
   ]
  },
  {
   "cell_type": "code",
   "execution_count": 61,
   "metadata": {},
   "outputs": [],
   "source": [
    "xgb_pred.to_csv(\"Predictions\\predictions_xgb_tuned.csv\",\n",
    "                index=False)"
   ]
  },
  {
   "cell_type": "code",
   "execution_count": null,
   "metadata": {},
   "outputs": [],
   "source": []
  },
  {
   "cell_type": "code",
   "execution_count": 3,
   "metadata": {},
   "outputs": [
    {
     "name": "stdout",
     "output_type": "stream",
     "text": [
      "Collecting xgboost\n",
      "  Downloading xgboost-1.3.1-py3-none-win_amd64.whl (95.2 MB)\n",
      "Requirement already satisfied: scipy in a:\\ml\\env\\lib\\site-packages (from xgboost) (1.5.2)\n",
      "Requirement already satisfied: numpy in a:\\ml\\env\\lib\\site-packages (from xgboost) (1.19.2)\n",
      "Installing collected packages: xgboost\n",
      "Successfully installed xgboost-1.3.1\n"
     ]
    }
   ],
   "source": [
    "!pip install xgboost"
   ]
  },
  {
   "cell_type": "code",
   "execution_count": 1,
   "metadata": {},
   "outputs": [
    {
     "name": "stdout",
     "output_type": "stream",
     "text": [
      "Collecting emoji\n",
      "  Downloading emoji-0.6.0.tar.gz (51 kB)\n",
      "Building wheels for collected packages: emoji\n",
      "  Building wheel for emoji (setup.py): started\n",
      "  Building wheel for emoji (setup.py): finished with status 'done'\n",
      "  Created wheel for emoji: filename=emoji-0.6.0-py3-none-any.whl size=49720 sha256=89cc5582ad3fb5629f3402b1774ab810dda5723aa74a7362590f8eae5365c14b\n",
      "  Stored in directory: c:\\users\\arnab aline\\appdata\\local\\pip\\cache\\wheels\\43\\3d\\82\\e7baffa5e86346c6178d7750dba6e8ef063282a37fc563f8f8\n",
      "Successfully built emoji\n",
      "Installing collected packages: emoji\n",
      "Successfully installed emoji-0.6.0\n"
     ]
    }
   ],
   "source": [
    "!pip install emoji"
   ]
  },
  {
   "cell_type": "code",
   "execution_count": null,
   "metadata": {},
   "outputs": [],
   "source": [
    "#np.log(33.317), np.exp(3.506068)"
   ]
  }
 ],
 "metadata": {
  "kernelspec": {
   "display_name": "Python 3",
   "language": "python",
   "name": "python3"
  },
  "language_info": {
   "codemirror_mode": {
    "name": "ipython",
    "version": 3
   },
   "file_extension": ".py",
   "mimetype": "text/x-python",
   "name": "python",
   "nbconvert_exporter": "python",
   "pygments_lexer": "ipython3",
   "version": "3.8.5"
  }
 },
 "nbformat": 4,
 "nbformat_minor": 4
}
